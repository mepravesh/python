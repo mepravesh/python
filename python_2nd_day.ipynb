{
 "cells": [
  {
   "cell_type": "code",
   "execution_count": 1,
   "id": "5a55e24b",
   "metadata": {},
   "outputs": [],
   "source": [
    "l = [1,2,234,\"praves\",True,2+5j,3.56]"
   ]
  },
  {
   "cell_type": "code",
   "execution_count": 2,
   "id": "fba8d47e",
   "metadata": {},
   "outputs": [
    {
     "data": {
      "text/plain": [
       "list"
      ]
     },
     "execution_count": 2,
     "metadata": {},
     "output_type": "execute_result"
    }
   ],
   "source": [
    "type(l)"
   ]
  },
  {
   "cell_type": "code",
   "execution_count": 3,
   "id": "2811499f",
   "metadata": {},
   "outputs": [
    {
     "data": {
      "text/plain": [
       "1"
      ]
     },
     "execution_count": 3,
     "metadata": {},
     "output_type": "execute_result"
    }
   ],
   "source": [
    "l[0]"
   ]
  },
  {
   "cell_type": "code",
   "execution_count": 4,
   "id": "344cf234",
   "metadata": {},
   "outputs": [
    {
     "data": {
      "text/plain": [
       "234"
      ]
     },
     "execution_count": 4,
     "metadata": {},
     "output_type": "execute_result"
    }
   ],
   "source": [
    "l[2]"
   ]
  },
  {
   "cell_type": "code",
   "execution_count": 5,
   "id": "196e1150",
   "metadata": {},
   "outputs": [
    {
     "data": {
      "text/plain": [
       "True"
      ]
     },
     "execution_count": 5,
     "metadata": {},
     "output_type": "execute_result"
    }
   ],
   "source": [
    "l[4]"
   ]
  },
  {
   "cell_type": "code",
   "execution_count": 6,
   "id": "80ca9060",
   "metadata": {},
   "outputs": [
    {
     "data": {
      "text/plain": [
       "3.56"
      ]
     },
     "execution_count": 6,
     "metadata": {},
     "output_type": "execute_result"
    }
   ],
   "source": [
    "l[6]"
   ]
  },
  {
   "cell_type": "code",
   "execution_count": 7,
   "id": "73427bda",
   "metadata": {},
   "outputs": [
    {
     "data": {
      "text/plain": [
       "(2+5j)"
      ]
     },
     "execution_count": 7,
     "metadata": {},
     "output_type": "execute_result"
    }
   ],
   "source": [
    "l[5]"
   ]
  },
  {
   "cell_type": "code",
   "execution_count": 9,
   "id": "3c74b327",
   "metadata": {},
   "outputs": [
    {
     "data": {
      "text/plain": [
       "[1, 2, 234, 'praves', True, (2+5j), 3.56]"
      ]
     },
     "execution_count": 9,
     "metadata": {},
     "output_type": "execute_result"
    }
   ],
   "source": [
    "l"
   ]
  },
  {
   "cell_type": "code",
   "execution_count": 11,
   "id": "d66d9cf6",
   "metadata": {},
   "outputs": [
    {
     "data": {
      "text/plain": [
       "[1, 2, 234]"
      ]
     },
     "execution_count": 11,
     "metadata": {},
     "output_type": "execute_result"
    }
   ],
   "source": [
    "l[0:3]"
   ]
  },
  {
   "cell_type": "code",
   "execution_count": 12,
   "id": "3fa76c50",
   "metadata": {},
   "outputs": [
    {
     "data": {
      "text/plain": [
       "3.56"
      ]
     },
     "execution_count": 12,
     "metadata": {},
     "output_type": "execute_result"
    }
   ],
   "source": [
    "l[-1]"
   ]
  },
  {
   "cell_type": "code",
   "execution_count": 15,
   "id": "23e07545",
   "metadata": {},
   "outputs": [
    {
     "data": {
      "text/plain": [
       "[3.56, (2+5j), True, 'praves', 234, 2, 1]"
      ]
     },
     "execution_count": 15,
     "metadata": {},
     "output_type": "execute_result"
    }
   ],
   "source": [
    "l[::-1]"
   ]
  },
  {
   "cell_type": "code",
   "execution_count": 16,
   "id": "a26724bf",
   "metadata": {},
   "outputs": [
    {
     "data": {
      "text/plain": [
       "[1, 2, 234, 'praves', True, (2+5j), 3.56]"
      ]
     },
     "execution_count": 16,
     "metadata": {},
     "output_type": "execute_result"
    }
   ],
   "source": [
    "l[::1]"
   ]
  },
  {
   "cell_type": "code",
   "execution_count": 17,
   "id": "a25e2592",
   "metadata": {},
   "outputs": [
    {
     "data": {
      "text/plain": [
       "[1, 234, True, 3.56]"
      ]
     },
     "execution_count": 17,
     "metadata": {},
     "output_type": "execute_result"
    }
   ],
   "source": [
    "l[0::2]"
   ]
  },
  {
   "cell_type": "code",
   "execution_count": 18,
   "id": "aba66438",
   "metadata": {},
   "outputs": [
    {
     "data": {
      "text/plain": [
       "[3.56, True, 234, 1]"
      ]
     },
     "execution_count": 18,
     "metadata": {},
     "output_type": "execute_result"
    }
   ],
   "source": [
    "l[::-2]"
   ]
  },
  {
   "cell_type": "code",
   "execution_count": 19,
   "id": "0a4fb736",
   "metadata": {},
   "outputs": [
    {
     "data": {
      "text/plain": [
       "[1, 2, 234, 'praves', True, (2+5j), 3.56]"
      ]
     },
     "execution_count": 19,
     "metadata": {},
     "output_type": "execute_result"
    }
   ],
   "source": [
    "l"
   ]
  },
  {
   "cell_type": "code",
   "execution_count": 20,
   "id": "5dd7dcd1",
   "metadata": {},
   "outputs": [],
   "source": [
    "s=\"pwskills\""
   ]
  },
  {
   "cell_type": "code",
   "execution_count": 23,
   "id": "347637d5",
   "metadata": {},
   "outputs": [
    {
     "ename": "TypeError",
     "evalue": "can only concatenate list (not \"str\") to list",
     "output_type": "error",
     "traceback": [
      "\u001b[1;31m---------------------------------------------------------------------------\u001b[0m",
      "\u001b[1;31mTypeError\u001b[0m                                 Traceback (most recent call last)",
      "\u001b[1;32m~\\AppData\\Local\\Temp\\ipykernel_13256\\1140923193.py\u001b[0m in \u001b[0;36m<module>\u001b[1;34m\u001b[0m\n\u001b[1;32m----> 1\u001b[1;33m \u001b[0ml\u001b[0m\u001b[1;33m+\u001b[0m\u001b[0ms\u001b[0m\u001b[1;33m\u001b[0m\u001b[1;33m\u001b[0m\u001b[0m\n\u001b[0m",
      "\u001b[1;31mTypeError\u001b[0m: can only concatenate list (not \"str\") to list"
     ]
    }
   ],
   "source": [
    "l+s"
   ]
  },
  {
   "cell_type": "code",
   "execution_count": 25,
   "id": "260f1a45",
   "metadata": {},
   "outputs": [
    {
     "data": {
      "text/plain": [
       "['p',\n",
       " 'w',\n",
       " 's',\n",
       " 'k',\n",
       " 'i',\n",
       " 'l',\n",
       " 'l',\n",
       " 's',\n",
       " 1,\n",
       " 2,\n",
       " 234,\n",
       " 'praves',\n",
       " True,\n",
       " (2+5j),\n",
       " 3.56]"
      ]
     },
     "execution_count": 25,
     "metadata": {},
     "output_type": "execute_result"
    }
   ],
   "source": [
    "list(s)+l"
   ]
  },
  {
   "cell_type": "code",
   "execution_count": 26,
   "id": "7c13f238",
   "metadata": {},
   "outputs": [
    {
     "data": {
      "text/plain": [
       "'pwskills'"
      ]
     },
     "execution_count": 26,
     "metadata": {},
     "output_type": "execute_result"
    }
   ],
   "source": [
    "s"
   ]
  },
  {
   "cell_type": "code",
   "execution_count": 27,
   "id": "c3891820",
   "metadata": {},
   "outputs": [
    {
     "data": {
      "text/plain": [
       "[1, 2, 234, 'praves', True, (2+5j), 3.56]"
      ]
     },
     "execution_count": 27,
     "metadata": {},
     "output_type": "execute_result"
    }
   ],
   "source": [
    "l"
   ]
  },
  {
   "cell_type": "code",
   "execution_count": 30,
   "id": "0987edc2",
   "metadata": {},
   "outputs": [
    {
     "data": {
      "text/plain": [
       "'praves'"
      ]
     },
     "execution_count": 30,
     "metadata": {},
     "output_type": "execute_result"
    }
   ],
   "source": [
    "l[3]"
   ]
  },
  {
   "cell_type": "code",
   "execution_count": 33,
   "id": "a340bceb",
   "metadata": {},
   "outputs": [
    {
     "data": {
      "text/plain": [
       "str"
      ]
     },
     "execution_count": 33,
     "metadata": {},
     "output_type": "execute_result"
    }
   ],
   "source": [
    "type(l[3])"
   ]
  },
  {
   "cell_type": "code",
   "execution_count": 34,
   "id": "b78a4236",
   "metadata": {},
   "outputs": [
    {
     "data": {
      "text/plain": [
       "'pr'"
      ]
     },
     "execution_count": 34,
     "metadata": {},
     "output_type": "execute_result"
    }
   ],
   "source": [
    "l[3][0:2]"
   ]
  },
  {
   "cell_type": "code",
   "execution_count": 36,
   "id": "97dedd57",
   "metadata": {},
   "outputs": [
    {
     "data": {
      "text/plain": [
       "'pra'"
      ]
     },
     "execution_count": 36,
     "metadata": {},
     "output_type": "execute_result"
    }
   ],
   "source": [
    "l[3][0:3]"
   ]
  },
  {
   "cell_type": "code",
   "execution_count": 40,
   "id": "2a64079f",
   "metadata": {},
   "outputs": [
    {
     "data": {
      "text/plain": [
       "'Tr'"
      ]
     },
     "execution_count": 40,
     "metadata": {},
     "output_type": "execute_result"
    }
   ],
   "source": [
    "str(l[4])[0:2]"
   ]
  },
  {
   "cell_type": "code",
   "execution_count": 43,
   "id": "a3f2ad91",
   "metadata": {},
   "outputs": [
    {
     "data": {
      "text/plain": [
       "'Tr'"
      ]
     },
     "execution_count": 43,
     "metadata": {},
     "output_type": "execute_result"
    }
   ],
   "source": [
    "str(l[4])[0:2]"
   ]
  },
  {
   "cell_type": "code",
   "execution_count": 45,
   "id": "4aaaa83f",
   "metadata": {},
   "outputs": [],
   "source": [
    "s=[\"pravesh\",\"kumar\",\"ravi\",True]"
   ]
  },
  {
   "cell_type": "code",
   "execution_count": 49,
   "id": "4004ed90",
   "metadata": {},
   "outputs": [
    {
     "data": {
      "text/plain": [
       "'Tru'"
      ]
     },
     "execution_count": 49,
     "metadata": {},
     "output_type": "execute_result"
    }
   ],
   "source": [
    "str(s[3])[0:3]"
   ]
  },
  {
   "cell_type": "code",
   "execution_count": 50,
   "id": "b600646c",
   "metadata": {},
   "outputs": [
    {
     "data": {
      "text/plain": [
       "[1, 2, 234, 'praves', True, (2+5j), 3.56]"
      ]
     },
     "execution_count": 50,
     "metadata": {},
     "output_type": "execute_result"
    }
   ],
   "source": [
    "l"
   ]
  },
  {
   "cell_type": "code",
   "execution_count": 55,
   "id": "4cce6153",
   "metadata": {},
   "outputs": [],
   "source": [
    "l1=[2,3,4,5,6]"
   ]
  },
  {
   "cell_type": "code",
   "execution_count": 56,
   "id": "e6212109",
   "metadata": {},
   "outputs": [
    {
     "data": {
      "text/plain": [
       "[1, 2, 234, 'praves', True, (2+5j), 3.56, 2, 3, 4, 5, 6]"
      ]
     },
     "execution_count": 56,
     "metadata": {},
     "output_type": "execute_result"
    }
   ],
   "source": [
    "l+l1"
   ]
  },
  {
   "cell_type": "code",
   "execution_count": 57,
   "id": "7be6222b",
   "metadata": {},
   "outputs": [
    {
     "data": {
      "text/plain": [
       "[2, 3, 4, 5, 6, 2, 3, 4, 5, 6, 2, 3, 4, 5, 6]"
      ]
     },
     "execution_count": 57,
     "metadata": {},
     "output_type": "execute_result"
    }
   ],
   "source": [
    "l1*3"
   ]
  },
  {
   "cell_type": "code",
   "execution_count": 59,
   "id": "78d168ef",
   "metadata": {},
   "outputs": [
    {
     "data": {
      "text/plain": [
       "list"
      ]
     },
     "execution_count": 59,
     "metadata": {},
     "output_type": "execute_result"
    }
   ],
   "source": [
    "type(l1)"
   ]
  },
  {
   "cell_type": "code",
   "execution_count": 60,
   "id": "bea8c31e",
   "metadata": {},
   "outputs": [
    {
     "data": {
      "text/plain": [
       "5"
      ]
     },
     "execution_count": 60,
     "metadata": {},
     "output_type": "execute_result"
    }
   ],
   "source": [
    "len(l1)"
   ]
  },
  {
   "cell_type": "code",
   "execution_count": 61,
   "id": "da7ac681",
   "metadata": {},
   "outputs": [
    {
     "data": {
      "text/plain": [
       "7"
      ]
     },
     "execution_count": 61,
     "metadata": {},
     "output_type": "execute_result"
    }
   ],
   "source": [
    "len(l)"
   ]
  },
  {
   "cell_type": "code",
   "execution_count": 62,
   "id": "1e10b756",
   "metadata": {},
   "outputs": [
    {
     "data": {
      "text/plain": [
       "[1, 2, 234, 'praves', True, (2+5j), 3.56]"
      ]
     },
     "execution_count": 62,
     "metadata": {},
     "output_type": "execute_result"
    }
   ],
   "source": [
    "l"
   ]
  },
  {
   "cell_type": "code",
   "execution_count": 63,
   "id": "7981e1cd",
   "metadata": {},
   "outputs": [],
   "source": [
    "l.append(5)"
   ]
  },
  {
   "cell_type": "code",
   "execution_count": 64,
   "id": "8c50bd37",
   "metadata": {},
   "outputs": [
    {
     "data": {
      "text/plain": [
       "[1, 2, 234, 'praves', True, (2+5j), 3.56, 5]"
      ]
     },
     "execution_count": 64,
     "metadata": {},
     "output_type": "execute_result"
    }
   ],
   "source": [
    "l"
   ]
  },
  {
   "cell_type": "code",
   "execution_count": 65,
   "id": "05bba481",
   "metadata": {},
   "outputs": [],
   "source": [
    "l.append(\"ravju\")"
   ]
  },
  {
   "cell_type": "code",
   "execution_count": 66,
   "id": "b4cfb625",
   "metadata": {},
   "outputs": [
    {
     "data": {
      "text/plain": [
       "[1, 2, 234, 'praves', True, (2+5j), 3.56, 5, 'ravju']"
      ]
     },
     "execution_count": 66,
     "metadata": {},
     "output_type": "execute_result"
    }
   ],
   "source": [
    "l"
   ]
  },
  {
   "cell_type": "code",
   "execution_count": 67,
   "id": "14f77031",
   "metadata": {},
   "outputs": [],
   "source": [
    "l.append(s)"
   ]
  },
  {
   "cell_type": "code",
   "execution_count": 68,
   "id": "8c108355",
   "metadata": {},
   "outputs": [
    {
     "data": {
      "text/plain": [
       "[1,\n",
       " 2,\n",
       " 234,\n",
       " 'praves',\n",
       " True,\n",
       " (2+5j),\n",
       " 3.56,\n",
       " 5,\n",
       " 'ravju',\n",
       " ['pravesh', 'kumar', 'ravi', True]]"
      ]
     },
     "execution_count": 68,
     "metadata": {},
     "output_type": "execute_result"
    }
   ],
   "source": [
    "l"
   ]
  },
  {
   "cell_type": "code",
   "execution_count": 69,
   "id": "33ff193e",
   "metadata": {},
   "outputs": [
    {
     "data": {
      "text/plain": [
       "[1,\n",
       " 2,\n",
       " 234,\n",
       " 'praves',\n",
       " True,\n",
       " (2+5j),\n",
       " 3.56,\n",
       " 5,\n",
       " 'ravju',\n",
       " ['pravesh', 'kumar', 'ravi', True]]"
      ]
     },
     "execution_count": 69,
     "metadata": {},
     "output_type": "execute_result"
    }
   ],
   "source": [
    "l"
   ]
  },
  {
   "cell_type": "code",
   "execution_count": 73,
   "id": "e1e66d09",
   "metadata": {},
   "outputs": [
    {
     "data": {
      "text/plain": [
       "'ravi'"
      ]
     },
     "execution_count": 73,
     "metadata": {},
     "output_type": "execute_result"
    }
   ],
   "source": [
    "l[-1][2]"
   ]
  },
  {
   "cell_type": "code",
   "execution_count": 74,
   "id": "b1579731",
   "metadata": {},
   "outputs": [
    {
     "data": {
      "text/plain": [
       "[1,\n",
       " 2,\n",
       " 234,\n",
       " 'praves',\n",
       " True,\n",
       " (2+5j),\n",
       " 3.56,\n",
       " 5,\n",
       " 'ravju',\n",
       " ['pravesh', 'kumar', 'ravi', True]]"
      ]
     },
     "execution_count": 74,
     "metadata": {},
     "output_type": "execute_result"
    }
   ],
   "source": [
    "l"
   ]
  },
  {
   "cell_type": "code",
   "execution_count": 75,
   "id": "9fc789f8",
   "metadata": {},
   "outputs": [
    {
     "ename": "TypeError",
     "evalue": "'int' object is not iterable",
     "output_type": "error",
     "traceback": [
      "\u001b[1;31m---------------------------------------------------------------------------\u001b[0m",
      "\u001b[1;31mTypeError\u001b[0m                                 Traceback (most recent call last)",
      "\u001b[1;32m~\\AppData\\Local\\Temp\\ipykernel_13256\\4150691915.py\u001b[0m in \u001b[0;36m<module>\u001b[1;34m\u001b[0m\n\u001b[1;32m----> 1\u001b[1;33m \u001b[0ml\u001b[0m\u001b[1;33m.\u001b[0m\u001b[0mextend\u001b[0m\u001b[1;33m(\u001b[0m\u001b[1;36m5\u001b[0m\u001b[1;33m)\u001b[0m\u001b[1;33m\u001b[0m\u001b[1;33m\u001b[0m\u001b[0m\n\u001b[0m",
      "\u001b[1;31mTypeError\u001b[0m: 'int' object is not iterable"
     ]
    }
   ],
   "source": [
    "l.extend(5)"
   ]
  },
  {
   "cell_type": "code",
   "execution_count": 78,
   "id": "718d9b44",
   "metadata": {},
   "outputs": [],
   "source": [
    "l.extend(\"apple\")"
   ]
  },
  {
   "cell_type": "code",
   "execution_count": 79,
   "id": "27b5bd79",
   "metadata": {},
   "outputs": [
    {
     "data": {
      "text/plain": [
       "[1,\n",
       " 2,\n",
       " 234,\n",
       " 'praves',\n",
       " True,\n",
       " (2+5j),\n",
       " 3.56,\n",
       " 5,\n",
       " 'ravju',\n",
       " ['pravesh', 'kumar', 'ravi', True],\n",
       " 'a',\n",
       " 'a',\n",
       " 'p',\n",
       " 'p',\n",
       " 'l',\n",
       " 'e']"
      ]
     },
     "execution_count": 79,
     "metadata": {},
     "output_type": "execute_result"
    }
   ],
   "source": [
    "l"
   ]
  },
  {
   "cell_type": "code",
   "execution_count": 80,
   "id": "d93dade9",
   "metadata": {},
   "outputs": [
    {
     "data": {
      "text/plain": [
       "[2, 3, 4, 5, 6]"
      ]
     },
     "execution_count": 80,
     "metadata": {},
     "output_type": "execute_result"
    }
   ],
   "source": [
    "l1"
   ]
  },
  {
   "cell_type": "code",
   "execution_count": 83,
   "id": "130c2b28",
   "metadata": {},
   "outputs": [],
   "source": [
    "l1.extend([1,2,4,5])"
   ]
  },
  {
   "cell_type": "code",
   "execution_count": 84,
   "id": "814660c0",
   "metadata": {},
   "outputs": [
    {
     "data": {
      "text/plain": [
       "[2, 3, 4, 5, 6, 1, 2, 4, 5]"
      ]
     },
     "execution_count": 84,
     "metadata": {},
     "output_type": "execute_result"
    }
   ],
   "source": [
    "l1"
   ]
  },
  {
   "cell_type": "code",
   "execution_count": 85,
   "id": "3104cdd0",
   "metadata": {},
   "outputs": [
    {
     "data": {
      "text/plain": [
       "[2, 3, 4, 5, 6, 1, 2, 4, 5]"
      ]
     },
     "execution_count": 85,
     "metadata": {},
     "output_type": "execute_result"
    }
   ],
   "source": [
    "l1"
   ]
  },
  {
   "cell_type": "code",
   "execution_count": 86,
   "id": "48122bdc",
   "metadata": {},
   "outputs": [],
   "source": [
    "l1.append([20,30,40,50,60,70])"
   ]
  },
  {
   "cell_type": "code",
   "execution_count": 87,
   "id": "e319a498",
   "metadata": {},
   "outputs": [
    {
     "data": {
      "text/plain": [
       "[2, 3, 4, 5, 6, 1, 2, 4, 5, [20, 30, 40, 50, 60, 70]]"
      ]
     },
     "execution_count": 87,
     "metadata": {},
     "output_type": "execute_result"
    }
   ],
   "source": [
    "l1"
   ]
  },
  {
   "cell_type": "code",
   "execution_count": 89,
   "id": "330aab0c",
   "metadata": {},
   "outputs": [],
   "source": [
    "a=[\"pravesh\",\"ravi\",\"mohan\"]"
   ]
  },
  {
   "cell_type": "code",
   "execution_count": 90,
   "id": "405892d0",
   "metadata": {},
   "outputs": [],
   "source": [
    "a.insert(1,\"raju\")"
   ]
  },
  {
   "cell_type": "code",
   "execution_count": 91,
   "id": "199addde",
   "metadata": {},
   "outputs": [
    {
     "data": {
      "text/plain": [
       "['pravesh', 'raju', 'ravi', 'mohan']"
      ]
     },
     "execution_count": 91,
     "metadata": {},
     "output_type": "execute_result"
    }
   ],
   "source": [
    "a"
   ]
  },
  {
   "cell_type": "code",
   "execution_count": 94,
   "id": "e902ca77",
   "metadata": {},
   "outputs": [],
   "source": [
    "a.insert(2,[2,3,4,5,6])"
   ]
  },
  {
   "cell_type": "code",
   "execution_count": 95,
   "id": "e95d088d",
   "metadata": {},
   "outputs": [
    {
     "data": {
      "text/plain": [
       "['pravesh', 'raju', [2, 3, 4, 5, 6], [2, 3, 4, 5, 6], 'ravi', 'mohan']"
      ]
     },
     "execution_count": 95,
     "metadata": {},
     "output_type": "execute_result"
    }
   ],
   "source": [
    "a"
   ]
  },
  {
   "cell_type": "code",
   "execution_count": 96,
   "id": "b9d91289",
   "metadata": {},
   "outputs": [],
   "source": [
    "a.insert(-1,45)"
   ]
  },
  {
   "cell_type": "code",
   "execution_count": 97,
   "id": "87d5d1d6",
   "metadata": {},
   "outputs": [
    {
     "data": {
      "text/plain": [
       "['pravesh', 'raju', [2, 3, 4, 5, 6], [2, 3, 4, 5, 6], 'ravi', 45, 'mohan']"
      ]
     },
     "execution_count": 97,
     "metadata": {},
     "output_type": "execute_result"
    }
   ],
   "source": [
    "a"
   ]
  },
  {
   "cell_type": "code",
   "execution_count": 98,
   "id": "b62e8b11",
   "metadata": {},
   "outputs": [],
   "source": [
    "a.insert(0,23)"
   ]
  },
  {
   "cell_type": "code",
   "execution_count": 99,
   "id": "4da9065e",
   "metadata": {},
   "outputs": [
    {
     "data": {
      "text/plain": [
       "[23, 'pravesh', 'raju', [2, 3, 4, 5, 6], [2, 3, 4, 5, 6], 'ravi', 45, 'mohan']"
      ]
     },
     "execution_count": 99,
     "metadata": {},
     "output_type": "execute_result"
    }
   ],
   "source": [
    "a"
   ]
  },
  {
   "cell_type": "code",
   "execution_count": 103,
   "id": "6e9f7af0",
   "metadata": {},
   "outputs": [
    {
     "data": {
      "text/plain": [
       "[23, 'pravesh', 'raju', [2, 3, 4, 5, 6], [2, 3, 4, 5, 6], 'ravi', 45, 'mohan']"
      ]
     },
     "execution_count": 103,
     "metadata": {},
     "output_type": "execute_result"
    }
   ],
   "source": [
    "a"
   ]
  },
  {
   "cell_type": "code",
   "execution_count": 1,
   "id": "22068c82",
   "metadata": {},
   "outputs": [],
   "source": [
    "a=[\"pravesh\",\"ravi\",\"raju\",True]"
   ]
  },
  {
   "cell_type": "code",
   "execution_count": 4,
   "id": "7f3af57f",
   "metadata": {},
   "outputs": [],
   "source": [
    "a.append(\"sonu\")"
   ]
  },
  {
   "cell_type": "code",
   "execution_count": 5,
   "id": "4f234fe0",
   "metadata": {},
   "outputs": [
    {
     "data": {
      "text/plain": [
       "['pravesh', 'ravi', 'raju', True, 'sonu']"
      ]
     },
     "execution_count": 5,
     "metadata": {},
     "output_type": "execute_result"
    }
   ],
   "source": [
    "a"
   ]
  },
  {
   "cell_type": "code",
   "execution_count": 6,
   "id": "71143be4",
   "metadata": {},
   "outputs": [],
   "source": [
    "a.insert(1,\"mohan\")"
   ]
  },
  {
   "cell_type": "code",
   "execution_count": 7,
   "id": "76c0d280",
   "metadata": {},
   "outputs": [
    {
     "data": {
      "text/plain": [
       "['pravesh', 'mohan', 'ravi', 'raju', True, 'sonu']"
      ]
     },
     "execution_count": 7,
     "metadata": {},
     "output_type": "execute_result"
    }
   ],
   "source": [
    "a"
   ]
  },
  {
   "cell_type": "code",
   "execution_count": 8,
   "id": "67b8fa4d",
   "metadata": {},
   "outputs": [],
   "source": [
    "a.append([\"anil\",\"remesh\"])"
   ]
  },
  {
   "cell_type": "code",
   "execution_count": 9,
   "id": "625c0192",
   "metadata": {},
   "outputs": [
    {
     "data": {
      "text/plain": [
       "['pravesh', 'mohan', 'ravi', 'raju', True, 'sonu', ['anil', 'remesh']]"
      ]
     },
     "execution_count": 9,
     "metadata": {},
     "output_type": "execute_result"
    }
   ],
   "source": [
    "a"
   ]
  },
  {
   "cell_type": "code",
   "execution_count": 10,
   "id": "f9e405f7",
   "metadata": {},
   "outputs": [
    {
     "data": {
      "text/plain": [
       "['pravesh', 'mohan', 'ravi', 'raju', True, 'sonu', ['anil', 'remesh']]"
      ]
     },
     "execution_count": 10,
     "metadata": {},
     "output_type": "execute_result"
    }
   ],
   "source": [
    "a"
   ]
  },
  {
   "cell_type": "code",
   "execution_count": 14,
   "id": "98fb6e05",
   "metadata": {},
   "outputs": [
    {
     "data": {
      "text/plain": [
       "['pravesh',\n",
       " 'mohan',\n",
       " 'ravi',\n",
       " 'raju',\n",
       " True,\n",
       " 'sonu',\n",
       " ['anil', 'remesh'],\n",
       " 'a',\n",
       " 'j',\n",
       " 'a',\n",
       " 'y']"
      ]
     },
     "execution_count": 14,
     "metadata": {},
     "output_type": "execute_result"
    }
   ],
   "source": [
    "a"
   ]
  },
  {
   "cell_type": "code",
   "execution_count": 15,
   "id": "e03d67fd",
   "metadata": {},
   "outputs": [],
   "source": [
    "a.extend([1,2,3])"
   ]
  },
  {
   "cell_type": "code",
   "execution_count": 16,
   "id": "b21e8d02",
   "metadata": {},
   "outputs": [
    {
     "data": {
      "text/plain": [
       "['pravesh',\n",
       " 'mohan',\n",
       " 'ravi',\n",
       " 'raju',\n",
       " True,\n",
       " 'sonu',\n",
       " ['anil', 'remesh'],\n",
       " 'a',\n",
       " 'j',\n",
       " 'a',\n",
       " 'y',\n",
       " 1,\n",
       " 2,\n",
       " 3]"
      ]
     },
     "execution_count": 16,
     "metadata": {},
     "output_type": "execute_result"
    }
   ],
   "source": [
    "a"
   ]
  },
  {
   "cell_type": "code",
   "execution_count": 17,
   "id": "6635612f",
   "metadata": {},
   "outputs": [],
   "source": [
    "a1=[12,13,24]"
   ]
  },
  {
   "cell_type": "code",
   "execution_count": 21,
   "id": "5ee66559",
   "metadata": {},
   "outputs": [],
   "source": [
    "a1.insert(0,34)"
   ]
  },
  {
   "cell_type": "code",
   "execution_count": 22,
   "id": "a5504f90",
   "metadata": {},
   "outputs": [
    {
     "data": {
      "text/plain": [
       "[34, 12, 13, 24]"
      ]
     },
     "execution_count": 22,
     "metadata": {},
     "output_type": "execute_result"
    }
   ],
   "source": [
    "a1"
   ]
  },
  {
   "cell_type": "code",
   "execution_count": 23,
   "id": "bc55d186",
   "metadata": {},
   "outputs": [],
   "source": [
    "a1.insert(2,[45,76,89])"
   ]
  },
  {
   "cell_type": "code",
   "execution_count": 24,
   "id": "fa7d1092",
   "metadata": {},
   "outputs": [
    {
     "data": {
      "text/plain": [
       "[34, 12, [45, 76, 89], 13, 24]"
      ]
     },
     "execution_count": 24,
     "metadata": {},
     "output_type": "execute_result"
    }
   ],
   "source": [
    "a1"
   ]
  },
  {
   "cell_type": "code",
   "execution_count": 42,
   "id": "7c8657e4",
   "metadata": {},
   "outputs": [],
   "source": [
    "a1.insert(-1,45)"
   ]
  },
  {
   "cell_type": "code",
   "execution_count": 30,
   "id": "2aff5f5d",
   "metadata": {},
   "outputs": [
    {
     "data": {
      "text/plain": [
       "[45, 34, 12, [45, 76, 89], 13, 45, 45, 24]"
      ]
     },
     "execution_count": 30,
     "metadata": {},
     "output_type": "execute_result"
    }
   ],
   "source": [
    "a1"
   ]
  },
  {
   "cell_type": "code",
   "execution_count": 31,
   "id": "a4730681",
   "metadata": {},
   "outputs": [
    {
     "data": {
      "text/plain": [
       "24"
      ]
     },
     "execution_count": 31,
     "metadata": {},
     "output_type": "execute_result"
    }
   ],
   "source": [
    "a1.pop()"
   ]
  },
  {
   "cell_type": "code",
   "execution_count": 32,
   "id": "e2e700fc",
   "metadata": {},
   "outputs": [
    {
     "data": {
      "text/plain": [
       "[45, 34, 12, [45, 76, 89], 13, 45, 45]"
      ]
     },
     "execution_count": 32,
     "metadata": {},
     "output_type": "execute_result"
    }
   ],
   "source": [
    "a1"
   ]
  },
  {
   "cell_type": "code",
   "execution_count": 33,
   "id": "86e54cd5",
   "metadata": {},
   "outputs": [
    {
     "data": {
      "text/plain": [
       "45"
      ]
     },
     "execution_count": 33,
     "metadata": {},
     "output_type": "execute_result"
    }
   ],
   "source": [
    "a1.pop(-2)"
   ]
  },
  {
   "cell_type": "code",
   "execution_count": 34,
   "id": "ab2cbf35",
   "metadata": {},
   "outputs": [
    {
     "data": {
      "text/plain": [
       "[45, 34, 12, [45, 76, 89], 13, 45]"
      ]
     },
     "execution_count": 34,
     "metadata": {},
     "output_type": "execute_result"
    }
   ],
   "source": [
    "a1"
   ]
  },
  {
   "cell_type": "code",
   "execution_count": 35,
   "id": "6700c38d",
   "metadata": {},
   "outputs": [
    {
     "data": {
      "text/plain": [
       "3"
      ]
     },
     "execution_count": 35,
     "metadata": {},
     "output_type": "execute_result"
    }
   ],
   "source": [
    "a.pop()"
   ]
  },
  {
   "cell_type": "code",
   "execution_count": 36,
   "id": "95cb2dca",
   "metadata": {},
   "outputs": [
    {
     "data": {
      "text/plain": [
       "[45, 34, 12, [45, 76, 89], 13, 45]"
      ]
     },
     "execution_count": 36,
     "metadata": {},
     "output_type": "execute_result"
    }
   ],
   "source": [
    "a1"
   ]
  },
  {
   "cell_type": "code",
   "execution_count": 38,
   "id": "3b9e1cf5",
   "metadata": {},
   "outputs": [
    {
     "data": {
      "text/plain": [
       "12"
      ]
     },
     "execution_count": 38,
     "metadata": {},
     "output_type": "execute_result"
    }
   ],
   "source": [
    "a1.pop(2)"
   ]
  },
  {
   "cell_type": "code",
   "execution_count": 39,
   "id": "21ef8fb5",
   "metadata": {},
   "outputs": [
    {
     "data": {
      "text/plain": [
       "[45, 34, [45, 76, 89], 13, 45]"
      ]
     },
     "execution_count": 39,
     "metadata": {},
     "output_type": "execute_result"
    }
   ],
   "source": [
    "a1"
   ]
  },
  {
   "cell_type": "code",
   "execution_count": 40,
   "id": "ee97d797",
   "metadata": {},
   "outputs": [
    {
     "data": {
      "text/plain": [
       "[45, 76, 89]"
      ]
     },
     "execution_count": 40,
     "metadata": {},
     "output_type": "execute_result"
    }
   ],
   "source": [
    "a1.pop(2)"
   ]
  },
  {
   "cell_type": "code",
   "execution_count": 41,
   "id": "29316919",
   "metadata": {},
   "outputs": [
    {
     "data": {
      "text/plain": [
       "[45, 34, 13, 45]"
      ]
     },
     "execution_count": 41,
     "metadata": {},
     "output_type": "execute_result"
    }
   ],
   "source": [
    "a1"
   ]
  },
  {
   "cell_type": "code",
   "execution_count": 4,
   "id": "e7d87640",
   "metadata": {},
   "outputs": [],
   "source": [
    "a=[10,20,23,34,89]"
   ]
  },
  {
   "cell_type": "code",
   "execution_count": 5,
   "id": "de6c753f",
   "metadata": {},
   "outputs": [],
   "source": [
    "a.remove(20)"
   ]
  },
  {
   "cell_type": "code",
   "execution_count": 6,
   "id": "3f64bc71",
   "metadata": {},
   "outputs": [
    {
     "data": {
      "text/plain": [
       "[10, 23, 34, 89]"
      ]
     },
     "execution_count": 6,
     "metadata": {},
     "output_type": "execute_result"
    }
   ],
   "source": [
    "a"
   ]
  },
  {
   "cell_type": "code",
   "execution_count": 8,
   "id": "d3a8181d",
   "metadata": {},
   "outputs": [],
   "source": [
    "a.remove(89)"
   ]
  },
  {
   "cell_type": "code",
   "execution_count": 9,
   "id": "45d64157",
   "metadata": {},
   "outputs": [
    {
     "data": {
      "text/plain": [
       "[10, 23, 34]"
      ]
     },
     "execution_count": 9,
     "metadata": {},
     "output_type": "execute_result"
    }
   ],
   "source": [
    "a"
   ]
  },
  {
   "cell_type": "code",
   "execution_count": 10,
   "id": "0066e901",
   "metadata": {},
   "outputs": [
    {
     "data": {
      "text/plain": [
       "[10, 23, 34]"
      ]
     },
     "execution_count": 10,
     "metadata": {},
     "output_type": "execute_result"
    }
   ],
   "source": [
    "a"
   ]
  },
  {
   "cell_type": "code",
   "execution_count": 11,
   "id": "9b9865f3",
   "metadata": {},
   "outputs": [],
   "source": [
    "a.append([30,40,60])"
   ]
  },
  {
   "cell_type": "code",
   "execution_count": 12,
   "id": "4f450615",
   "metadata": {},
   "outputs": [
    {
     "data": {
      "text/plain": [
       "[10, 23, 34, [30, 40, 60]]"
      ]
     },
     "execution_count": 12,
     "metadata": {},
     "output_type": "execute_result"
    }
   ],
   "source": [
    "a"
   ]
  },
  {
   "cell_type": "code",
   "execution_count": 16,
   "id": "7b90d4b4",
   "metadata": {},
   "outputs": [],
   "source": [
    "a[3].remove(60)"
   ]
  },
  {
   "cell_type": "code",
   "execution_count": 17,
   "id": "f3960413",
   "metadata": {},
   "outputs": [
    {
     "data": {
      "text/plain": [
       "[10, 23, 34, [30, 40]]"
      ]
     },
     "execution_count": 17,
     "metadata": {},
     "output_type": "execute_result"
    }
   ],
   "source": [
    "a"
   ]
  },
  {
   "cell_type": "code",
   "execution_count": 18,
   "id": "8c58536a",
   "metadata": {},
   "outputs": [],
   "source": [
    "a.append(\"paravesh\")"
   ]
  },
  {
   "cell_type": "code",
   "execution_count": 20,
   "id": "fa4fb8a2",
   "metadata": {},
   "outputs": [
    {
     "data": {
      "text/plain": [
       "[10, 23, 34, [30, 40], 'paravesh']"
      ]
     },
     "execution_count": 20,
     "metadata": {},
     "output_type": "execute_result"
    }
   ],
   "source": [
    "a"
   ]
  },
  {
   "cell_type": "code",
   "execution_count": 23,
   "id": "de05109e",
   "metadata": {},
   "outputs": [],
   "source": [
    "a.append(4)"
   ]
  },
  {
   "cell_type": "code",
   "execution_count": 24,
   "id": "222f3291",
   "metadata": {},
   "outputs": [
    {
     "data": {
      "text/plain": [
       "[10, 23, 34, [30, 40], 'paravesh', 4]"
      ]
     },
     "execution_count": 24,
     "metadata": {},
     "output_type": "execute_result"
    }
   ],
   "source": [
    "a"
   ]
  },
  {
   "cell_type": "code",
   "execution_count": 25,
   "id": "40d02447",
   "metadata": {},
   "outputs": [],
   "source": [
    "a.append(4)"
   ]
  },
  {
   "cell_type": "code",
   "execution_count": 26,
   "id": "da860620",
   "metadata": {},
   "outputs": [
    {
     "data": {
      "text/plain": [
       "[10, 23, 34, [30, 40], 'paravesh', 4, 4]"
      ]
     },
     "execution_count": 26,
     "metadata": {},
     "output_type": "execute_result"
    }
   ],
   "source": [
    "a"
   ]
  },
  {
   "cell_type": "code",
   "execution_count": 28,
   "id": "dc0b31e7",
   "metadata": {},
   "outputs": [],
   "source": [
    "a.remove(4)"
   ]
  },
  {
   "cell_type": "code",
   "execution_count": 29,
   "id": "af136c46",
   "metadata": {},
   "outputs": [
    {
     "data": {
      "text/plain": [
       "[10, 23, 34, [30, 40], 'paravesh']"
      ]
     },
     "execution_count": 29,
     "metadata": {},
     "output_type": "execute_result"
    }
   ],
   "source": [
    "a"
   ]
  },
  {
   "cell_type": "code",
   "execution_count": 34,
   "id": "99062cb6",
   "metadata": {},
   "outputs": [],
   "source": [
    "a=a[::-1]"
   ]
  },
  {
   "cell_type": "code",
   "execution_count": 35,
   "id": "c6106d50",
   "metadata": {},
   "outputs": [
    {
     "data": {
      "text/plain": [
       "[10, 23, 34, [30, 40], 'paravesh']"
      ]
     },
     "execution_count": 35,
     "metadata": {},
     "output_type": "execute_result"
    }
   ],
   "source": [
    "a"
   ]
  },
  {
   "cell_type": "code",
   "execution_count": 32,
   "id": "d466868c",
   "metadata": {},
   "outputs": [],
   "source": [
    "a.reverse()"
   ]
  },
  {
   "cell_type": "code",
   "execution_count": 33,
   "id": "bb28155b",
   "metadata": {},
   "outputs": [
    {
     "data": {
      "text/plain": [
       "['paravesh', [30, 40], 34, 23, 10]"
      ]
     },
     "execution_count": 33,
     "metadata": {},
     "output_type": "execute_result"
    }
   ],
   "source": [
    "a"
   ]
  },
  {
   "cell_type": "code",
   "execution_count": 36,
   "id": "ab1547fc",
   "metadata": {},
   "outputs": [
    {
     "data": {
      "text/plain": [
       "[10, 23, 34, [30, 40], 'paravesh']"
      ]
     },
     "execution_count": 36,
     "metadata": {},
     "output_type": "execute_result"
    }
   ],
   "source": [
    "a"
   ]
  },
  {
   "cell_type": "code",
   "execution_count": 37,
   "id": "8c3d5a86",
   "metadata": {},
   "outputs": [
    {
     "ename": "TypeError",
     "evalue": "'<' not supported between instances of 'list' and 'int'",
     "output_type": "error",
     "traceback": [
      "\u001b[1;31m---------------------------------------------------------------------------\u001b[0m",
      "\u001b[1;31mTypeError\u001b[0m                                 Traceback (most recent call last)",
      "\u001b[1;32m~\\AppData\\Local\\Temp\\ipykernel_21432\\2629139315.py\u001b[0m in \u001b[0;36m<module>\u001b[1;34m\u001b[0m\n\u001b[1;32m----> 1\u001b[1;33m \u001b[0ma\u001b[0m\u001b[1;33m.\u001b[0m\u001b[0msort\u001b[0m\u001b[1;33m(\u001b[0m\u001b[1;33m)\u001b[0m\u001b[1;33m\u001b[0m\u001b[1;33m\u001b[0m\u001b[0m\n\u001b[0m",
      "\u001b[1;31mTypeError\u001b[0m: '<' not supported between instances of 'list' and 'int'"
     ]
    }
   ],
   "source": [
    "a.sort()"
   ]
  },
  {
   "cell_type": "code",
   "execution_count": 39,
   "id": "667de8cd",
   "metadata": {},
   "outputs": [],
   "source": [
    "a1=[12,40,20,30,40,56,78]"
   ]
  },
  {
   "cell_type": "code",
   "execution_count": 40,
   "id": "3fff0b2e",
   "metadata": {},
   "outputs": [
    {
     "data": {
      "text/plain": [
       "[12, 40, 20, 30, 40, 56, 78]"
      ]
     },
     "execution_count": 40,
     "metadata": {},
     "output_type": "execute_result"
    }
   ],
   "source": [
    "a1"
   ]
  },
  {
   "cell_type": "code",
   "execution_count": 41,
   "id": "e1b7f924",
   "metadata": {},
   "outputs": [],
   "source": [
    "a1.sort()"
   ]
  },
  {
   "cell_type": "code",
   "execution_count": 42,
   "id": "c29261e3",
   "metadata": {},
   "outputs": [
    {
     "data": {
      "text/plain": [
       "[12, 20, 30, 40, 40, 56, 78]"
      ]
     },
     "execution_count": 42,
     "metadata": {},
     "output_type": "execute_result"
    }
   ],
   "source": [
    "a1"
   ]
  },
  {
   "cell_type": "code",
   "execution_count": 43,
   "id": "eb9a82cf",
   "metadata": {},
   "outputs": [],
   "source": [
    "p=\"ravi\""
   ]
  },
  {
   "cell_type": "code",
   "execution_count": 44,
   "id": "da559c58",
   "metadata": {},
   "outputs": [
    {
     "data": {
      "text/plain": [
       "'RAVI'"
      ]
     },
     "execution_count": 44,
     "metadata": {},
     "output_type": "execute_result"
    }
   ],
   "source": [
    "p.upper()"
   ]
  },
  {
   "cell_type": "code",
   "execution_count": 45,
   "id": "c1029902",
   "metadata": {},
   "outputs": [
    {
     "data": {
      "text/plain": [
       "'Ravi'"
      ]
     },
     "execution_count": 45,
     "metadata": {},
     "output_type": "execute_result"
    }
   ],
   "source": [
    "p.title()"
   ]
  },
  {
   "cell_type": "code",
   "execution_count": 46,
   "id": "320e6547",
   "metadata": {},
   "outputs": [
    {
     "data": {
      "text/plain": [
       "'Ravi'"
      ]
     },
     "execution_count": 46,
     "metadata": {},
     "output_type": "execute_result"
    }
   ],
   "source": [
    "p.capitalize()"
   ]
  },
  {
   "cell_type": "code",
   "execution_count": 47,
   "id": "72a1c7ff",
   "metadata": {},
   "outputs": [
    {
     "data": {
      "text/plain": [
       "'ravi'"
      ]
     },
     "execution_count": 47,
     "metadata": {},
     "output_type": "execute_result"
    }
   ],
   "source": [
    "p"
   ]
  },
  {
   "cell_type": "code",
   "execution_count": 49,
   "id": "7f0c7c09",
   "metadata": {},
   "outputs": [],
   "source": [
    "a3=[35,\"prvesh\",34,13,\"kumar\"]"
   ]
  },
  {
   "cell_type": "code",
   "execution_count": 50,
   "id": "431567e2",
   "metadata": {},
   "outputs": [
    {
     "ename": "TypeError",
     "evalue": "'<' not supported between instances of 'str' and 'int'",
     "output_type": "error",
     "traceback": [
      "\u001b[1;31m---------------------------------------------------------------------------\u001b[0m",
      "\u001b[1;31mTypeError\u001b[0m                                 Traceback (most recent call last)",
      "\u001b[1;32m~\\AppData\\Local\\Temp\\ipykernel_21432\\2761933334.py\u001b[0m in \u001b[0;36m<module>\u001b[1;34m\u001b[0m\n\u001b[1;32m----> 1\u001b[1;33m \u001b[0ma3\u001b[0m\u001b[1;33m.\u001b[0m\u001b[0msort\u001b[0m\u001b[1;33m(\u001b[0m\u001b[1;33m)\u001b[0m\u001b[1;33m\u001b[0m\u001b[1;33m\u001b[0m\u001b[0m\n\u001b[0m",
      "\u001b[1;31mTypeError\u001b[0m: '<' not supported between instances of 'str' and 'int'"
     ]
    }
   ],
   "source": [
    "a3.sort()"
   ]
  },
  {
   "cell_type": "code",
   "execution_count": 51,
   "id": "889e2580",
   "metadata": {},
   "outputs": [],
   "source": [
    "a4=[\"ravi\",\"mohan\",\"raju\"]"
   ]
  },
  {
   "cell_type": "code",
   "execution_count": 54,
   "id": "bd1e396c",
   "metadata": {},
   "outputs": [],
   "source": [
    "a4.sort(reverse=True)"
   ]
  },
  {
   "cell_type": "code",
   "execution_count": 55,
   "id": "50406800",
   "metadata": {},
   "outputs": [
    {
     "data": {
      "text/plain": [
       "['ravi', 'raju', 'mohan']"
      ]
     },
     "execution_count": 55,
     "metadata": {},
     "output_type": "execute_result"
    }
   ],
   "source": [
    "a4"
   ]
  },
  {
   "cell_type": "code",
   "execution_count": 57,
   "id": "4b19b25b",
   "metadata": {},
   "outputs": [
    {
     "data": {
      "text/plain": [
       "1"
      ]
     },
     "execution_count": 57,
     "metadata": {},
     "output_type": "execute_result"
    }
   ],
   "source": [
    "a4.index(\"raju\")"
   ]
  },
  {
   "cell_type": "code",
   "execution_count": 58,
   "id": "22d86ce1",
   "metadata": {},
   "outputs": [
    {
     "data": {
      "text/plain": [
       "1"
      ]
     },
     "execution_count": 58,
     "metadata": {},
     "output_type": "execute_result"
    }
   ],
   "source": [
    "a4.count(\"raju\")"
   ]
  },
  {
   "cell_type": "code",
   "execution_count": 59,
   "id": "20262036",
   "metadata": {},
   "outputs": [],
   "source": [
    "p=\"ravi\""
   ]
  },
  {
   "cell_type": "code",
   "execution_count": 60,
   "id": "35e354d9",
   "metadata": {},
   "outputs": [],
   "source": [
    "l=[2,3,4,5,6]"
   ]
  },
  {
   "cell_type": "code",
   "execution_count": 68,
   "id": "26dae316",
   "metadata": {},
   "outputs": [
    {
     "ename": "TypeError",
     "evalue": "'str' object does not support item assignment",
     "output_type": "error",
     "traceback": [
      "\u001b[1;31m---------------------------------------------------------------------------\u001b[0m",
      "\u001b[1;31mTypeError\u001b[0m                                 Traceback (most recent call last)",
      "\u001b[1;32m~\\AppData\\Local\\Temp\\ipykernel_21432\\1729554986.py\u001b[0m in \u001b[0;36m<module>\u001b[1;34m\u001b[0m\n\u001b[1;32m----> 1\u001b[1;33m \u001b[0mp\u001b[0m\u001b[1;33m[\u001b[0m\u001b[1;36m0\u001b[0m\u001b[1;33m]\u001b[0m \u001b[1;33m=\u001b[0m \u001b[1;34m\"s\"\u001b[0m\u001b[1;33m\u001b[0m\u001b[1;33m\u001b[0m\u001b[0m\n\u001b[0m",
      "\u001b[1;31mTypeError\u001b[0m: 'str' object does not support item assignment"
     ]
    }
   ],
   "source": [
    "p[0] = \"s\""
   ]
  },
  {
   "cell_type": "code",
   "execution_count": 66,
   "id": "4d8092bd",
   "metadata": {},
   "outputs": [],
   "source": [
    "l[0] = 30"
   ]
  },
  {
   "cell_type": "code",
   "execution_count": 69,
   "id": "257f3193",
   "metadata": {},
   "outputs": [
    {
     "data": {
      "text/plain": [
       "[30, 3, 4, 5, 6]"
      ]
     },
     "execution_count": 69,
     "metadata": {},
     "output_type": "execute_result"
    }
   ],
   "source": [
    "l"
   ]
  },
  {
   "cell_type": "code",
   "execution_count": 70,
   "id": "2dc701d0",
   "metadata": {},
   "outputs": [],
   "source": [
    "l[2]=89"
   ]
  },
  {
   "cell_type": "code",
   "execution_count": 71,
   "id": "45cfceb3",
   "metadata": {},
   "outputs": [
    {
     "data": {
      "text/plain": [
       "[30, 3, 89, 5, 6]"
      ]
     },
     "execution_count": 71,
     "metadata": {},
     "output_type": "execute_result"
    }
   ],
   "source": [
    "l"
   ]
  },
  {
   "cell_type": "code",
   "execution_count": 72,
   "id": "26eb6f72",
   "metadata": {},
   "outputs": [
    {
     "ename": "SyntaxError",
     "evalue": "invalid syntax (3492097443.py, line 1)",
     "output_type": "error",
     "traceback": [
      "\u001b[1;36m  File \u001b[1;32m\"C:\\Users\\mis\\AppData\\Local\\Temp\\ipykernel_21432\\3492097443.py\"\u001b[1;36m, line \u001b[1;32m1\u001b[0m\n\u001b[1;33m    =True/False\u001b[0m\n\u001b[1;37m    ^\u001b[0m\n\u001b[1;31mSyntaxError\u001b[0m\u001b[1;31m:\u001b[0m invalid syntax\n"
     ]
    }
   ],
   "source": [
    "=True/False"
   ]
  },
  {
   "cell_type": "code",
   "execution_count": 73,
   "id": "44da4a83",
   "metadata": {},
   "outputs": [
    {
     "data": {
      "text/plain": [
       "'cavi'"
      ]
     },
     "execution_count": 73,
     "metadata": {},
     "output_type": "execute_result"
    }
   ],
   "source": [
    "p.replace('r','c')"
   ]
  },
  {
   "cell_type": "code",
   "execution_count": 75,
   "id": "4b359ce7",
   "metadata": {},
   "outputs": [],
   "source": [
    "t = (2,3,4,\"pravesh\",False,40,[30,40,50])"
   ]
  },
  {
   "cell_type": "code",
   "execution_count": 76,
   "id": "94068d71",
   "metadata": {},
   "outputs": [
    {
     "data": {
      "text/plain": [
       "(2, 3, 4, 'pravesh', False, 40, [30, 40, 50])"
      ]
     },
     "execution_count": 76,
     "metadata": {},
     "output_type": "execute_result"
    }
   ],
   "source": [
    "t"
   ]
  },
  {
   "cell_type": "code",
   "execution_count": 77,
   "id": "888ed24e",
   "metadata": {},
   "outputs": [
    {
     "data": {
      "text/plain": [
       "tuple"
      ]
     },
     "execution_count": 77,
     "metadata": {},
     "output_type": "execute_result"
    }
   ],
   "source": [
    "type(t)"
   ]
  },
  {
   "cell_type": "code",
   "execution_count": 78,
   "id": "7a8da3d9",
   "metadata": {},
   "outputs": [
    {
     "data": {
      "text/plain": [
       "7"
      ]
     },
     "execution_count": 78,
     "metadata": {},
     "output_type": "execute_result"
    }
   ],
   "source": [
    "len(t)"
   ]
  },
  {
   "cell_type": "code",
   "execution_count": 79,
   "id": "e0631332",
   "metadata": {},
   "outputs": [
    {
     "data": {
      "text/plain": [
       "'pravesh'"
      ]
     },
     "execution_count": 79,
     "metadata": {},
     "output_type": "execute_result"
    }
   ],
   "source": [
    "t[3]"
   ]
  },
  {
   "cell_type": "code",
   "execution_count": 80,
   "id": "0f69e616",
   "metadata": {},
   "outputs": [
    {
     "data": {
      "text/plain": [
       "[30, 40, 50]"
      ]
     },
     "execution_count": 80,
     "metadata": {},
     "output_type": "execute_result"
    }
   ],
   "source": [
    "t[-1]"
   ]
  },
  {
   "cell_type": "code",
   "execution_count": 81,
   "id": "dc3b5f56",
   "metadata": {},
   "outputs": [
    {
     "data": {
      "text/plain": [
       "([30, 40, 50], 40, False, 'pravesh', 4, 3, 2)"
      ]
     },
     "execution_count": 81,
     "metadata": {},
     "output_type": "execute_result"
    }
   ],
   "source": [
    "t[::-1]"
   ]
  },
  {
   "cell_type": "code",
   "execution_count": 82,
   "id": "a59d76e1",
   "metadata": {},
   "outputs": [],
   "source": [
    "r =[\"ravi\",\"raju\",\"mohan\"]"
   ]
  },
  {
   "cell_type": "code",
   "execution_count": 83,
   "id": "e70855c3",
   "metadata": {},
   "outputs": [],
   "source": [
    "r[0] =3456"
   ]
  },
  {
   "cell_type": "code",
   "execution_count": 84,
   "id": "7de7fd81",
   "metadata": {},
   "outputs": [
    {
     "data": {
      "text/plain": [
       "[3456, 'raju', 'mohan']"
      ]
     },
     "execution_count": 84,
     "metadata": {},
     "output_type": "execute_result"
    }
   ],
   "source": [
    "r"
   ]
  },
  {
   "cell_type": "code",
   "execution_count": 86,
   "id": "42a95a4a",
   "metadata": {},
   "outputs": [
    {
     "data": {
      "text/plain": [
       "(2, 3, 4, 'pravesh', False, 40, [30, 40, 50])"
      ]
     },
     "execution_count": 86,
     "metadata": {},
     "output_type": "execute_result"
    }
   ],
   "source": [
    "t"
   ]
  },
  {
   "cell_type": "code",
   "execution_count": 87,
   "id": "9254b401",
   "metadata": {},
   "outputs": [
    {
     "ename": "TypeError",
     "evalue": "'tuple' object does not support item assignment",
     "output_type": "error",
     "traceback": [
      "\u001b[1;31m---------------------------------------------------------------------------\u001b[0m",
      "\u001b[1;31mTypeError\u001b[0m                                 Traceback (most recent call last)",
      "\u001b[1;32m~\\AppData\\Local\\Temp\\ipykernel_21432\\414792310.py\u001b[0m in \u001b[0;36m<module>\u001b[1;34m\u001b[0m\n\u001b[1;32m----> 1\u001b[1;33m \u001b[0mt\u001b[0m\u001b[1;33m[\u001b[0m\u001b[1;36m2\u001b[0m\u001b[1;33m]\u001b[0m \u001b[1;33m=\u001b[0m \u001b[1;36m345\u001b[0m\u001b[1;33m\u001b[0m\u001b[1;33m\u001b[0m\u001b[0m\n\u001b[0m",
      "\u001b[1;31mTypeError\u001b[0m: 'tuple' object does not support item assignment"
     ]
    }
   ],
   "source": [
    "t[2] = 345"
   ]
  },
  {
   "cell_type": "code",
   "execution_count": 88,
   "id": "f1f765b6",
   "metadata": {},
   "outputs": [
    {
     "data": {
      "text/plain": [
       "([30, 40, 50], 40, False, 'pravesh', 4, 3, 2)"
      ]
     },
     "execution_count": 88,
     "metadata": {},
     "output_type": "execute_result"
    }
   ],
   "source": [
    "t[::-1]"
   ]
  },
  {
   "cell_type": "code",
   "execution_count": 90,
   "id": "a4a54615",
   "metadata": {},
   "outputs": [
    {
     "data": {
      "text/plain": [
       "1"
      ]
     },
     "execution_count": 90,
     "metadata": {},
     "output_type": "execute_result"
    }
   ],
   "source": [
    "t.count(40)"
   ]
  },
  {
   "cell_type": "code",
   "execution_count": 91,
   "id": "f0381ad8",
   "metadata": {},
   "outputs": [
    {
     "ename": "ZeroDivisionError",
     "evalue": "division by zero",
     "output_type": "error",
     "traceback": [
      "\u001b[1;31m---------------------------------------------------------------------------\u001b[0m",
      "\u001b[1;31mZeroDivisionError\u001b[0m                         Traceback (most recent call last)",
      "\u001b[1;32m~\\AppData\\Local\\Temp\\ipykernel_21432\\2794436645.py\u001b[0m in \u001b[0;36m<module>\u001b[1;34m\u001b[0m\n\u001b[1;32m----> 1\u001b[1;33m \u001b[1;32mTrue\u001b[0m\u001b[1;33m/\u001b[0m\u001b[1;32mFalse\u001b[0m\u001b[1;33m\u001b[0m\u001b[1;33m\u001b[0m\u001b[0m\n\u001b[0m",
      "\u001b[1;31mZeroDivisionError\u001b[0m: division by zero"
     ]
    }
   ],
   "source": [
    "True/False"
   ]
  },
  {
   "cell_type": "code",
   "execution_count": 1,
   "id": "d2c5cff9",
   "metadata": {},
   "outputs": [],
   "source": [
    "s1={}"
   ]
  },
  {
   "cell_type": "code",
   "execution_count": 2,
   "id": "adee86cd",
   "metadata": {},
   "outputs": [
    {
     "data": {
      "text/plain": [
       "dict"
      ]
     },
     "execution_count": 2,
     "metadata": {},
     "output_type": "execute_result"
    }
   ],
   "source": [
    "type(s1)"
   ]
  },
  {
   "cell_type": "code",
   "execution_count": 3,
   "id": "82cb2425",
   "metadata": {},
   "outputs": [],
   "source": [
    "s2={1,2,3,4,6,7,8}"
   ]
  },
  {
   "cell_type": "code",
   "execution_count": 4,
   "id": "182506ce",
   "metadata": {},
   "outputs": [
    {
     "data": {
      "text/plain": [
       "set"
      ]
     },
     "execution_count": 4,
     "metadata": {},
     "output_type": "execute_result"
    }
   ],
   "source": [
    "type(s2)"
   ]
  },
  {
   "cell_type": "code",
   "execution_count": 5,
   "id": "420b5bde",
   "metadata": {},
   "outputs": [],
   "source": [
    "s3={23,67,87,\"pravesh\",65+7j,(8,9,8)}"
   ]
  },
  {
   "cell_type": "code",
   "execution_count": 6,
   "id": "1f82fcb9",
   "metadata": {},
   "outputs": [
    {
     "data": {
      "text/plain": [
       "{(65+7j), (8, 9, 8), 23, 67, 87, 'pravesh'}"
      ]
     },
     "execution_count": 6,
     "metadata": {},
     "output_type": "execute_result"
    }
   ],
   "source": [
    "s3\n"
   ]
  },
  {
   "cell_type": "code",
   "execution_count": 18,
   "id": "c7a9f1d1",
   "metadata": {},
   "outputs": [],
   "source": [
    "s4={2,2,3,3,4,4,5,5,6,6,7,7,8,8,9,9,10,10,\"pravesh\",\"Pravesh\"}"
   ]
  },
  {
   "cell_type": "code",
   "execution_count": 19,
   "id": "a29796a5",
   "metadata": {},
   "outputs": [
    {
     "data": {
      "text/plain": [
       "{10, 2, 3, 4, 5, 6, 7, 8, 9, 'Pravesh', 'pravesh'}"
      ]
     },
     "execution_count": 19,
     "metadata": {},
     "output_type": "execute_result"
    }
   ],
   "source": [
    "s4"
   ]
  },
  {
   "cell_type": "code",
   "execution_count": 22,
   "id": "ab92b5c9",
   "metadata": {},
   "outputs": [],
   "source": [
    "l6=[2,2,3,3,4,4,5,5,6,6,7,7,8,8,9,9,10,10,\"pravesh\",\"Pravesh\"]\n",
    "l6= list(set(l6))"
   ]
  },
  {
   "cell_type": "code",
   "execution_count": 23,
   "id": "a510c981",
   "metadata": {},
   "outputs": [
    {
     "data": {
      "text/plain": [
       "[2, 3, 4, 5, 6, 7, 8, 9, 10, 'Pravesh', 'pravesh']"
      ]
     },
     "execution_count": 23,
     "metadata": {},
     "output_type": "execute_result"
    }
   ],
   "source": [
    "l6"
   ]
  },
  {
   "cell_type": "code",
   "execution_count": 24,
   "id": "f1a6e7af",
   "metadata": {},
   "outputs": [],
   "source": [
    "s5 ={234,34,45,6,7,34,56,78,98,\"abc\",34567,3466}"
   ]
  },
  {
   "cell_type": "code",
   "execution_count": 25,
   "id": "abd9f995",
   "metadata": {},
   "outputs": [
    {
     "data": {
      "text/plain": [
       "{234, 34, 34567, 3466, 45, 56, 6, 7, 78, 98, 'abc'}"
      ]
     },
     "execution_count": 25,
     "metadata": {},
     "output_type": "execute_result"
    }
   ],
   "source": [
    "s5"
   ]
  },
  {
   "cell_type": "code",
   "execution_count": 26,
   "id": "45eb7815",
   "metadata": {},
   "outputs": [
    {
     "ename": "TypeError",
     "evalue": "'set' object is not subscriptable",
     "output_type": "error",
     "traceback": [
      "\u001b[1;31m---------------------------------------------------------------------------\u001b[0m",
      "\u001b[1;31mTypeError\u001b[0m                                 Traceback (most recent call last)",
      "\u001b[1;32m~\\AppData\\Local\\Temp\\ipykernel_21168\\4103576207.py\u001b[0m in \u001b[0;36m<module>\u001b[1;34m\u001b[0m\n\u001b[1;32m----> 1\u001b[1;33m \u001b[0ms5\u001b[0m\u001b[1;33m[\u001b[0m\u001b[1;36m0\u001b[0m\u001b[1;33m]\u001b[0m\u001b[1;33m\u001b[0m\u001b[1;33m\u001b[0m\u001b[0m\n\u001b[0m",
      "\u001b[1;31mTypeError\u001b[0m: 'set' object is not subscriptable"
     ]
    }
   ],
   "source": [
    "s5"
   ]
  },
  {
   "cell_type": "code",
   "execution_count": 27,
   "id": "8c6f044f",
   "metadata": {},
   "outputs": [],
   "source": [
    "s5.add(7)"
   ]
  },
  {
   "cell_type": "code",
   "execution_count": 28,
   "id": "ad9c9f8c",
   "metadata": {},
   "outputs": [
    {
     "data": {
      "text/plain": [
       "{234, 34, 34567, 3466, 45, 56, 6, 7, 78, 98, 'abc'}"
      ]
     },
     "execution_count": 28,
     "metadata": {},
     "output_type": "execute_result"
    }
   ],
   "source": [
    "s5"
   ]
  },
  {
   "cell_type": "code",
   "execution_count": 29,
   "id": "78559304",
   "metadata": {},
   "outputs": [],
   "source": [
    "s5.remove(7)"
   ]
  },
  {
   "cell_type": "code",
   "execution_count": 30,
   "id": "f72e0c1e",
   "metadata": {},
   "outputs": [
    {
     "data": {
      "text/plain": [
       "{234, 34, 34567, 3466, 45, 56, 6, 78, 98, 'abc'}"
      ]
     },
     "execution_count": 30,
     "metadata": {},
     "output_type": "execute_result"
    }
   ],
   "source": [
    "s5"
   ]
  },
  {
   "cell_type": "code",
   "execution_count": 32,
   "id": "42879541",
   "metadata": {},
   "outputs": [],
   "source": [
    "s5.remove(6)"
   ]
  },
  {
   "cell_type": "code",
   "execution_count": 33,
   "id": "9fd272f0",
   "metadata": {},
   "outputs": [
    {
     "data": {
      "text/plain": [
       "{234, 34, 34567, 3466, 45, 56, 78, 98, 'abc'}"
      ]
     },
     "execution_count": 33,
     "metadata": {},
     "output_type": "execute_result"
    }
   ],
   "source": [
    "s5"
   ]
  },
  {
   "cell_type": "code",
   "execution_count": 34,
   "id": "8c1d8d1f",
   "metadata": {},
   "outputs": [],
   "source": [
    "s5.remove(\"abc\")"
   ]
  },
  {
   "cell_type": "code",
   "execution_count": 35,
   "id": "29936ae2",
   "metadata": {},
   "outputs": [
    {
     "data": {
      "text/plain": [
       "{34, 45, 56, 78, 98, 234, 3466, 34567}"
      ]
     },
     "execution_count": 35,
     "metadata": {},
     "output_type": "execute_result"
    }
   ],
   "source": [
    "s5"
   ]
  },
  {
   "cell_type": "code",
   "execution_count": 36,
   "id": "f2a8b8fb",
   "metadata": {},
   "outputs": [
    {
     "data": {
      "text/plain": [
       "{34, 45, 56, 78, 98, 234, 3466, 34567}"
      ]
     },
     "execution_count": 36,
     "metadata": {},
     "output_type": "execute_result"
    }
   ],
   "source": [
    "s5.union(s5)"
   ]
  },
  {
   "cell_type": "code",
   "execution_count": 37,
   "id": "4b0dad19",
   "metadata": {},
   "outputs": [
    {
     "data": {
      "text/plain": [
       "{34, 45, 56, 78, 98, 234, 3466, 34567}"
      ]
     },
     "execution_count": 37,
     "metadata": {},
     "output_type": "execute_result"
    }
   ],
   "source": [
    "s5"
   ]
  },
  {
   "cell_type": "code",
   "execution_count": null,
   "id": "9e91f8ee",
   "metadata": {},
   "outputs": [],
   "source": []
  }
 ],
 "metadata": {
  "kernelspec": {
   "display_name": "Python 3 (ipykernel)",
   "language": "python",
   "name": "python3"
  },
  "language_info": {
   "codemirror_mode": {
    "name": "ipython",
    "version": 3
   },
   "file_extension": ".py",
   "mimetype": "text/x-python",
   "name": "python",
   "nbconvert_exporter": "python",
   "pygments_lexer": "ipython3",
   "version": "3.9.13"
  }
 },
 "nbformat": 4,
 "nbformat_minor": 5
}
