{
 "cells": [
  {
   "cell_type": "code",
   "execution_count": 1,
   "id": "c0a8283e",
   "metadata": {},
   "outputs": [],
   "source": [
    "a={}"
   ]
  },
  {
   "cell_type": "code",
   "execution_count": 2,
   "id": "5976e1c1",
   "metadata": {},
   "outputs": [
    {
     "data": {
      "text/plain": [
       "dict"
      ]
     },
     "execution_count": 2,
     "metadata": {},
     "output_type": "execute_result"
    }
   ],
   "source": [
    "type(a)"
   ]
  },
  {
   "cell_type": "code",
   "execution_count": 3,
   "id": "9dd513c0",
   "metadata": {},
   "outputs": [],
   "source": [
    "a1={\"name\":\"pravesh\"}"
   ]
  },
  {
   "cell_type": "code",
   "execution_count": 12,
   "id": "40a8b7fe",
   "metadata": {},
   "outputs": [],
   "source": [
    "a2={\"Name\":\"Pravesh Kumar Roy\",\"Email id\":\"praveshkumarroy440@gmail.com\",\"Mobile no\":7079252553}"
   ]
  },
  {
   "cell_type": "code",
   "execution_count": 13,
   "id": "07b607b3",
   "metadata": {},
   "outputs": [
    {
     "data": {
      "text/plain": [
       "{'Name': 'Pravesh Kumar Roy',\n",
       " 'Email id': 'praveshkumarroy440@gmail.com',\n",
       " 'Mobile no': 7079252553}"
      ]
     },
     "execution_count": 13,
     "metadata": {},
     "output_type": "execute_result"
    }
   ],
   "source": [
    "a2"
   ]
  },
  {
   "cell_type": "code",
   "execution_count": 14,
   "id": "dbbdd6ab",
   "metadata": {},
   "outputs": [],
   "source": [
    "a3={123:\"pravesh\"}"
   ]
  },
  {
   "cell_type": "code",
   "execution_count": 19,
   "id": "989f5130",
   "metadata": {},
   "outputs": [],
   "source": [
    "a4={\"@\":\"pravesh\",True:\"raj\"}"
   ]
  },
  {
   "cell_type": "code",
   "execution_count": 21,
   "id": "17029126",
   "metadata": {},
   "outputs": [
    {
     "data": {
      "text/plain": [
       "{'Name': 'Pravesh Kumar Roy',\n",
       " 'Email id': 'praveshkumarroy440@gmail.com',\n",
       " 'Mobile no': 7079252553}"
      ]
     },
     "execution_count": 21,
     "metadata": {},
     "output_type": "execute_result"
    }
   ],
   "source": [
    "a2"
   ]
  },
  {
   "cell_type": "code",
   "execution_count": 26,
   "id": "799c252b",
   "metadata": {},
   "outputs": [],
   "source": [
    "a2[\"Name\"]=\"Rakesh Kumar Roy\""
   ]
  },
  {
   "cell_type": "code",
   "execution_count": 27,
   "id": "d9b2e64e",
   "metadata": {},
   "outputs": [
    {
     "data": {
      "text/plain": [
       "'praveshkumarroy440@gmail.com'"
      ]
     },
     "execution_count": 27,
     "metadata": {},
     "output_type": "execute_result"
    }
   ],
   "source": [
    "a2[\"Email id\"]"
   ]
  },
  {
   "cell_type": "code",
   "execution_count": 28,
   "id": "e7c15215",
   "metadata": {},
   "outputs": [
    {
     "data": {
      "text/plain": [
       "7079252553"
      ]
     },
     "execution_count": 28,
     "metadata": {},
     "output_type": "execute_result"
    }
   ],
   "source": [
    "a2[\"Mobile no\"]"
   ]
  },
  {
   "cell_type": "code",
   "execution_count": 29,
   "id": "fa4ccd03",
   "metadata": {},
   "outputs": [
    {
     "data": {
      "text/plain": [
       "'raj'"
      ]
     },
     "execution_count": 29,
     "metadata": {},
     "output_type": "execute_result"
    }
   ],
   "source": [
    "a4[1]"
   ]
  },
  {
   "cell_type": "code",
   "execution_count": 30,
   "id": "da0ec22c",
   "metadata": {},
   "outputs": [
    {
     "data": {
      "text/plain": [
       "{'Name': 'Rakesh Kumar Roy',\n",
       " 'Email id': 'praveshkumarroy440@gmail.com',\n",
       " 'Mobile no': 7079252553}"
      ]
     },
     "execution_count": 30,
     "metadata": {},
     "output_type": "execute_result"
    }
   ],
   "source": [
    "a2"
   ]
  },
  {
   "cell_type": "code",
   "execution_count": 33,
   "id": "a7cd268d",
   "metadata": {},
   "outputs": [],
   "source": [
    "d={\"Name\":[\"Pravesh\",\"Ravi\",\"Mainsh\",\"Ram\",\"Anil\"],\"Mobile No\":[11111,2222,3333,2222,2222]}"
   ]
  },
  {
   "cell_type": "code",
   "execution_count": 34,
   "id": "2279a4d5",
   "metadata": {},
   "outputs": [
    {
     "data": {
      "text/plain": [
       "['Pravesh', 'Ravi', 'Mainsh', 'Ram', 'Anil']"
      ]
     },
     "execution_count": 34,
     "metadata": {},
     "output_type": "execute_result"
    }
   ],
   "source": [
    "d[\"Name\"]"
   ]
  },
  {
   "cell_type": "code",
   "execution_count": 35,
   "id": "5f505535",
   "metadata": {},
   "outputs": [
    {
     "data": {
      "text/plain": [
       "[11111, 2222, 3333, 2222, 2222]"
      ]
     },
     "execution_count": 35,
     "metadata": {},
     "output_type": "execute_result"
    }
   ],
   "source": [
    "d[\"Mobile No\"]"
   ]
  },
  {
   "cell_type": "code",
   "execution_count": 36,
   "id": "59db3f1f",
   "metadata": {},
   "outputs": [],
   "source": [
    "d1={\"company name\":\"pwskills\",\"cources\":[\"web dev\",\"data science\",\"java with dsa\"]}"
   ]
  },
  {
   "cell_type": "code",
   "execution_count": 37,
   "id": "d36f66c8",
   "metadata": {},
   "outputs": [
    {
     "data": {
      "text/plain": [
       "{'company name': 'pwskills',\n",
       " 'cources': ['web dev', 'data science', 'java with dsa']}"
      ]
     },
     "execution_count": 37,
     "metadata": {},
     "output_type": "execute_result"
    }
   ],
   "source": [
    "d1"
   ]
  },
  {
   "cell_type": "code",
   "execution_count": 40,
   "id": "2775a4e9",
   "metadata": {},
   "outputs": [
    {
     "data": {
      "text/plain": [
       "'java with dsa'"
      ]
     },
     "execution_count": 40,
     "metadata": {},
     "output_type": "execute_result"
    }
   ],
   "source": [
    "d1[\"cources\"][2]"
   ]
  },
  {
   "cell_type": "code",
   "execution_count": 49,
   "id": "067e67f5",
   "metadata": {},
   "outputs": [],
   "source": [
    "d6={\"number\":[2,3,4,5,6,7,7],\"assignment\":(1,2,3,4,5,5,6,7),\"lunc date\":{28,29,30,32},\"class timing\":{\"web dev\":8,\"data scienence\":9}}"
   ]
  },
  {
   "cell_type": "code",
   "execution_count": 50,
   "id": "22d2ffd1",
   "metadata": {},
   "outputs": [
    {
     "data": {
      "text/plain": [
       "{'number': [2, 3, 4, 5, 6, 7, 7],\n",
       " 'assignment': (1, 2, 3, 4, 5, 5, 6, 7),\n",
       " 'lunc date': {28, 29, 30, 32},\n",
       " 'class timing': {'web dev': 8, 'data scienence': 9}}"
      ]
     },
     "execution_count": 50,
     "metadata": {},
     "output_type": "execute_result"
    }
   ],
   "source": [
    "d6"
   ]
  },
  {
   "cell_type": "code",
   "execution_count": 54,
   "id": "d3973bd0",
   "metadata": {},
   "outputs": [
    {
     "data": {
      "text/plain": [
       "9"
      ]
     },
     "execution_count": 54,
     "metadata": {},
     "output_type": "execute_result"
    }
   ],
   "source": [
    "d6[\"class timing\"][\"data scienence\"]"
   ]
  },
  {
   "cell_type": "code",
   "execution_count": 55,
   "id": "c0f6895c",
   "metadata": {},
   "outputs": [
    {
     "data": {
      "text/plain": [
       "{'number': [2, 3, 4, 5, 6, 7, 7],\n",
       " 'assignment': (1, 2, 3, 4, 5, 5, 6, 7),\n",
       " 'lunc date': {28, 29, 30, 32},\n",
       " 'class timing': {'web dev': 8, 'data scienence': 9}}"
      ]
     },
     "execution_count": 55,
     "metadata": {},
     "output_type": "execute_result"
    }
   ],
   "source": [
    "d6"
   ]
  },
  {
   "cell_type": "code",
   "execution_count": 56,
   "id": "12413ce6",
   "metadata": {},
   "outputs": [],
   "source": [
    "d6[\"mentor\"]=[\"sudhanshu\",\"krish\",\"anurag\",\"hayder\"]"
   ]
  },
  {
   "cell_type": "code",
   "execution_count": 57,
   "id": "5c3c0aa9",
   "metadata": {},
   "outputs": [
    {
     "data": {
      "text/plain": [
       "{'number': [2, 3, 4, 5, 6, 7, 7],\n",
       " 'assignment': (1, 2, 3, 4, 5, 5, 6, 7),\n",
       " 'lunc date': {28, 29, 30, 32},\n",
       " 'class timing': {'web dev': 8, 'data scienence': 9},\n",
       " 'mentor': ['sudhanshu', 'krish', 'anurag', 'hayder']}"
      ]
     },
     "execution_count": 57,
     "metadata": {},
     "output_type": "execute_result"
    }
   ],
   "source": [
    "d6"
   ]
  },
  {
   "cell_type": "code",
   "execution_count": 59,
   "id": "ef4ba7f6",
   "metadata": {},
   "outputs": [],
   "source": [
    "del d6[\"number\"]"
   ]
  },
  {
   "cell_type": "code",
   "execution_count": 60,
   "id": "9e19d03f",
   "metadata": {},
   "outputs": [
    {
     "data": {
      "text/plain": [
       "{'assignment': (1, 2, 3, 4, 5, 5, 6, 7),\n",
       " 'lunc date': {28, 29, 30, 32},\n",
       " 'class timing': {'web dev': 8, 'data scienence': 9},\n",
       " 'mentor': ['sudhanshu', 'krish', 'anurag', 'hayder']}"
      ]
     },
     "execution_count": 60,
     "metadata": {},
     "output_type": "execute_result"
    }
   ],
   "source": [
    "d6"
   ]
  },
  {
   "cell_type": "code",
   "execution_count": 61,
   "id": "8d1a37ec",
   "metadata": {},
   "outputs": [
    {
     "data": {
      "text/plain": [
       "dict_keys(['assignment', 'lunc date', 'class timing', 'mentor'])"
      ]
     },
     "execution_count": 61,
     "metadata": {},
     "output_type": "execute_result"
    }
   ],
   "source": [
    "d6.keys()"
   ]
  },
  {
   "cell_type": "code",
   "execution_count": 63,
   "id": "f81e240e",
   "metadata": {},
   "outputs": [
    {
     "data": {
      "text/plain": [
       "[('assignment', (1, 2, 3, 4, 5, 5, 6, 7)),\n",
       " ('lunc date', {28, 29, 30, 32}),\n",
       " ('class timing', {'web dev': 8, 'data scienence': 9}),\n",
       " ('mentor', ['sudhanshu', 'krish', 'anurag', 'hayder'])]"
      ]
     },
     "execution_count": 63,
     "metadata": {},
     "output_type": "execute_result"
    }
   ],
   "source": [
    "list(d6.items())"
   ]
  },
  {
   "cell_type": "code",
   "execution_count": 67,
   "id": "8cfb0c3d",
   "metadata": {},
   "outputs": [
    {
     "data": {
      "text/plain": [
       "[(1, 2, 3, 4, 5, 5, 6, 7),\n",
       " {28, 29, 30, 32},\n",
       " {'web dev': 8, 'data scienence': 9},\n",
       " ['sudhanshu', 'krish', 'anurag', 'hayder']]"
      ]
     },
     "execution_count": 67,
     "metadata": {},
     "output_type": "execute_result"
    }
   ],
   "source": [
    "list(d6.values())"
   ]
  },
  {
   "cell_type": "code",
   "execution_count": 70,
   "id": "3e70f5e7",
   "metadata": {},
   "outputs": [
    {
     "data": {
      "text/plain": [
       "[('assignment', (1, 2, 3, 4, 5, 5, 6, 7)),\n",
       " ('lunc date', {28, 29, 30, 32}),\n",
       " ('class timing', {'web dev': 8, 'data scienence': 9}),\n",
       " ('mentor', ['sudhanshu', 'krish', 'anurag', 'hayder'])]"
      ]
     },
     "execution_count": 70,
     "metadata": {},
     "output_type": "execute_result"
    }
   ],
   "source": [
    "list(d6.items())"
   ]
  },
  {
   "cell_type": "code",
   "execution_count": 71,
   "id": "086e11df",
   "metadata": {},
   "outputs": [
    {
     "data": {
      "text/plain": [
       "{28, 29, 30, 32}"
      ]
     },
     "execution_count": 71,
     "metadata": {},
     "output_type": "execute_result"
    }
   ],
   "source": [
    "d6.pop(\"lunc date\")"
   ]
  },
  {
   "cell_type": "code",
   "execution_count": 72,
   "id": "8e2fb5b9",
   "metadata": {},
   "outputs": [
    {
     "data": {
      "text/plain": [
       "{'assignment': (1, 2, 3, 4, 5, 5, 6, 7),\n",
       " 'class timing': {'web dev': 8, 'data scienence': 9},\n",
       " 'mentor': ['sudhanshu', 'krish', 'anurag', 'hayder']}"
      ]
     },
     "execution_count": 72,
     "metadata": {},
     "output_type": "execute_result"
    }
   ],
   "source": [
    "d6"
   ]
  },
  {
   "cell_type": "code",
   "execution_count": 2,
   "id": "e6dfee1f",
   "metadata": {},
   "outputs": [
    {
     "name": "stdout",
     "output_type": "stream",
     "text": [
      "Enter Your Marks 70\n",
      "You Will be a Part of A1 Batch\n",
      "Thank You\n"
     ]
    }
   ],
   "source": [
    "Marks = int(input(\"Enter Your Marks \"))\n",
    "if Marks >= 80 :\n",
    "    print(\"You Will be a Part of A0 Batch\")\n",
    "elif Marks >=60 and Marks<80:\n",
    "    print(\"You Will be a Part of A1 Batch\")\n",
    "elif Marks >=40 and Marks <60:\n",
    "    print(\"You Will be a Part of A2 Batch\")\n",
    "else:\n",
    "    print(\"You Will be a Part of A3 Batch\")\n",
    "print(\"Thank You\")\n",
    "\n",
    "    "
   ]
  },
  {
   "cell_type": "code",
   "execution_count": 3,
   "id": "b65e812a",
   "metadata": {},
   "outputs": [],
   "source": [
    "# sun 4\n",
    "# mon  2\n",
    "# tus 1\n",
    "# wed 2\n",
    "# thu 3\n",
    "# fri 4\n",
    "# sat 7"
   ]
  },
  {
   "cell_type": "code",
   "execution_count": 5,
   "id": "09a1533c",
   "metadata": {},
   "outputs": [
    {
     "name": "stdout",
     "output_type": "stream",
     "text": [
      "Enter You Day\n",
      "wed\n",
      "You have to study 2 Hours\n"
     ]
    }
   ],
   "source": [
    "Day=input(\"Enter You Day\\n\")\n",
    "if Day==\"sun\":\n",
    "    print(\"You have to study 4 Hours\")\n",
    "elif Day==\"mon\":\n",
    "    print(\"You have to study 2 Hours\")\n",
    "elif Day==\"tus\":\n",
    "    print(\"You have to study 1 Hours\")\n",
    "elif Day==\"wed\":\n",
    "    print(\"You have to study 2 Hours\")\n",
    "elif Day==\"thu\":\n",
    "    print(\"You have to study 2 Hours\")\n",
    "elif Day==\"fri\":\n",
    "    print(\"You have to study 2 Hours\")\n",
    "else:\n",
    "    print(\"You have to study 2 Hours\")"
   ]
  },
  {
   "cell_type": "code",
   "execution_count": 11,
   "id": "d847164d",
   "metadata": {},
   "outputs": [
    {
     "name": "stdout",
     "output_type": "stream",
     "text": [
      "Enter You Price Amount\n",
      "10\n",
      "I will Pruchesed\n"
     ]
    }
   ],
   "source": [
    "Price=int(input(\"Enter You Price Amount\\n\"))\n",
    "if Price==10000 or Price<10000:\n",
    "    print(\"I will Pruchesed\")\n",
    "else:\n",
    "    print(\"I will not Pruchased\")"
   ]
  },
  {
   "cell_type": "code",
   "execution_count": 9,
   "id": "85184b64",
   "metadata": {},
   "outputs": [
    {
     "name": "stdout",
     "output_type": "stream",
     "text": [
      "enter you price1000000000\n",
      "i will purchsed\n",
      "this is too much\n"
     ]
    }
   ],
   "source": [
    "price=int(input(\"enter you price\"))\n",
    "\n",
    "if price >1000:\n",
    "    print(\"i will purchsed\")\n",
    "    if price >5000:\n",
    "        print(\"this is too much\")\n",
    "    elif price<2000:\n",
    "        print(\"its ok\")\n",
    "else:\n",
    "    print(\"you can no purchased\")"
   ]
  },
  {
   "cell_type": "code",
   "execution_count": 45,
   "id": "b8beab44",
   "metadata": {},
   "outputs": [
    {
     "name": "stdout",
     "output_type": "stream",
     "text": [
      "2\n",
      "3\n",
      "4\n",
      "5\n",
      "6\n",
      "7\n",
      "8\n",
      "8\n",
      "9\n",
      "10\n",
      "11\n"
     ]
    }
   ],
   "source": [
    "l=[1,2,3,4,5,6,7,7,8,9,10]\n",
    "l1=[]\n",
    "for i in l:\n",
    "    (print(i+1))\n",
    "    l1.append(i+1)"
   ]
  },
  {
   "cell_type": "code",
   "execution_count": 46,
   "id": "61d3bf33",
   "metadata": {},
   "outputs": [
    {
     "data": {
      "text/plain": [
       "[2, 3, 4, 5, 6, 7, 8, 8, 9, 10, 11]"
      ]
     },
     "execution_count": 46,
     "metadata": {},
     "output_type": "execute_result"
    }
   ],
   "source": [
    "l1"
   ]
  },
  {
   "cell_type": "code",
   "execution_count": 53,
   "id": "cee02f0f",
   "metadata": {},
   "outputs": [
    {
     "name": "stdout",
     "output_type": "stream",
     "text": [
      "pravesh\n",
      "kumar\n",
      "roy\n"
     ]
    }
   ],
   "source": [
    "l2=[\"pravesh\",\"kumar\",\"roy\"]\n",
    "l3=[]\n",
    "for i in l2:\n",
    "    print(i)\n",
    "    l3.append(i.upper())"
   ]
  },
  {
   "cell_type": "code",
   "execution_count": 55,
   "id": "dc82190d",
   "metadata": {},
   "outputs": [
    {
     "data": {
      "text/plain": [
       "['PRAVESH', 'KUMAR', 'ROY']"
      ]
     },
     "execution_count": 55,
     "metadata": {},
     "output_type": "execute_result"
    }
   ],
   "source": [
    "l3"
   ]
  },
  {
   "cell_type": "code",
   "execution_count": 57,
   "id": "c511300f",
   "metadata": {},
   "outputs": [],
   "source": [
    "l4=[1,2,3,4,5,6,7,8,9,10,11,12,13,14,\"pravesh\",\"abc\",5.44,5.33,5+7j]"
   ]
  },
  {
   "cell_type": "code",
   "execution_count": 66,
   "id": "56aa8d9d",
   "metadata": {},
   "outputs": [],
   "source": [
    "int_lis=[]\n",
    "str_list=[]\n",
    "d=[]\n",
    "for i in l4:\n",
    "    if type(i) == int or type (i)== float:\n",
    "        int_lis.append(i)\n",
    "    elif type(i)== str:\n",
    "        str_list.append(i)\n",
    "    else:\n",
    "        d.append(i)"
   ]
  },
  {
   "cell_type": "code",
   "execution_count": 67,
   "id": "a228bd92",
   "metadata": {},
   "outputs": [
    {
     "data": {
      "text/plain": [
       "[1, 2, 3, 4, 5, 6, 7, 8, 9, 10, 11, 12, 13, 14, 5.44, 5.33]"
      ]
     },
     "execution_count": 67,
     "metadata": {},
     "output_type": "execute_result"
    }
   ],
   "source": [
    "int_lis"
   ]
  },
  {
   "cell_type": "code",
   "execution_count": 68,
   "id": "000e3237",
   "metadata": {},
   "outputs": [
    {
     "data": {
      "text/plain": [
       "['pravesh', 'abc']"
      ]
     },
     "execution_count": 68,
     "metadata": {},
     "output_type": "execute_result"
    }
   ],
   "source": [
    "str_list"
   ]
  },
  {
   "cell_type": "code",
   "execution_count": 69,
   "id": "9e359db4",
   "metadata": {},
   "outputs": [
    {
     "data": {
      "text/plain": [
       "[(5+7j)]"
      ]
     },
     "execution_count": 69,
     "metadata": {},
     "output_type": "execute_result"
    }
   ],
   "source": [
    "d"
   ]
  },
  {
   "cell_type": "code",
   "execution_count": 75,
   "id": "ef36df0d",
   "metadata": {},
   "outputs": [
    {
     "name": "stdout",
     "output_type": "stream",
     "text": [
      "2\n",
      "4\n",
      "6\n",
      "8\n",
      "10\n",
      "12\n",
      "14\n",
      "16\n",
      "18\n",
      "20\n"
     ]
    }
   ],
   "source": [
    "a=[1,2,3,4,5,6,7,8,9,10]\n",
    "b=[]\n",
    "for i in a:\n",
    "    print(i*2)\n",
    "    b.append(i*2)"
   ]
  },
  {
   "cell_type": "code",
   "execution_count": 76,
   "id": "93b25382",
   "metadata": {},
   "outputs": [
    {
     "data": {
      "text/plain": [
       "[2, 4, 6, 8, 10, 12, 14, 16, 18, 20]"
      ]
     },
     "execution_count": 76,
     "metadata": {},
     "output_type": "execute_result"
    }
   ],
   "source": [
    "b"
   ]
  },
  {
   "cell_type": "code",
   "execution_count": null,
   "id": "8f1935a2",
   "metadata": {},
   "outputs": [],
   "source": []
  }
 ],
 "metadata": {
  "kernelspec": {
   "display_name": "Python 3 (ipykernel)",
   "language": "python",
   "name": "python3"
  },
  "language_info": {
   "codemirror_mode": {
    "name": "ipython",
    "version": 3
   },
   "file_extension": ".py",
   "mimetype": "text/x-python",
   "name": "python",
   "nbconvert_exporter": "python",
   "pygments_lexer": "ipython3",
   "version": "3.9.13"
  }
 },
 "nbformat": 4,
 "nbformat_minor": 5
}
