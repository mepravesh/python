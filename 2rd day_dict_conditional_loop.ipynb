{
 "cells": [
  {
   "cell_type": "code",
   "execution_count": 1,
   "id": "2832849d",
   "metadata": {},
   "outputs": [],
   "source": [
    "l=[1,2,34,\"pravesh\",True,False,34,5.4]"
   ]
  },
  {
   "cell_type": "code",
   "execution_count": 2,
   "id": "e76723f7",
   "metadata": {},
   "outputs": [
    {
     "data": {
      "text/plain": [
       "list"
      ]
     },
     "execution_count": 2,
     "metadata": {},
     "output_type": "execute_result"
    }
   ],
   "source": [
    "type(l)"
   ]
  },
  {
   "cell_type": "code",
   "execution_count": 4,
   "id": "4e5ab7fb",
   "metadata": {},
   "outputs": [
    {
     "data": {
      "text/plain": [
       "3"
      ]
     },
     "execution_count": 4,
     "metadata": {},
     "output_type": "execute_result"
    }
   ],
   "source": [
    "l.index(\"pravesh\")"
   ]
  },
  {
   "cell_type": "code",
   "execution_count": 8,
   "id": "ca5582fb",
   "metadata": {},
   "outputs": [
    {
     "data": {
      "text/plain": [
       "'pravesh'"
      ]
     },
     "execution_count": 8,
     "metadata": {},
     "output_type": "execute_result"
    }
   ],
   "source": [
    "l[3]"
   ]
  },
  {
   "cell_type": "code",
   "execution_count": 9,
   "id": "0bc575de",
   "metadata": {},
   "outputs": [
    {
     "data": {
      "text/plain": [
       "True"
      ]
     },
     "execution_count": 9,
     "metadata": {},
     "output_type": "execute_result"
    }
   ],
   "source": [
    "l[4]"
   ]
  },
  {
   "cell_type": "code",
   "execution_count": 18,
   "id": "7756d02e",
   "metadata": {},
   "outputs": [
    {
     "data": {
      "text/plain": [
       "[['pravesh', 'ravi', 'anil', 'raju', 'pankaj'],\n",
       " 5.4,\n",
       " 34,\n",
       " False,\n",
       " True,\n",
       " 'pravesh',\n",
       " 34,\n",
       " 2,\n",
       " 1]"
      ]
     },
     "execution_count": 18,
     "metadata": {},
     "output_type": "execute_result"
    }
   ],
   "source": [
    "l[::-1]"
   ]
  },
  {
   "cell_type": "code",
   "execution_count": null,
   "id": "cb8d2579",
   "metadata": {},
   "outputs": [],
   "source": []
  },
  {
   "cell_type": "code",
   "execution_count": 19,
   "id": "1d1a3861",
   "metadata": {},
   "outputs": [],
   "source": [
    "l.append(p)"
   ]
  },
  {
   "cell_type": "code",
   "execution_count": 20,
   "id": "ca51a77e",
   "metadata": {},
   "outputs": [
    {
     "data": {
      "text/plain": [
       "[1,\n",
       " 2,\n",
       " 34,\n",
       " 'pravesh',\n",
       " True,\n",
       " False,\n",
       " 34,\n",
       " 5.4,\n",
       " ['pravesh', 'ravi', 'anil', 'raju', 'pankaj'],\n",
       " ['pravesh', 'ravi', 'anil', 'raju', 'pankaj']]"
      ]
     },
     "execution_count": 20,
     "metadata": {},
     "output_type": "execute_result"
    }
   ],
   "source": [
    "l"
   ]
  },
  {
   "cell_type": "code",
   "execution_count": 29,
   "id": "96c0978c",
   "metadata": {},
   "outputs": [
    {
     "data": {
      "text/plain": [
       "[['pravesh', 'ravi', 'anil', 'raju', 'pankaj'],\n",
       " ['pravesh', 'ravi', 'anil', 'raju', 'pankaj']]"
      ]
     },
     "execution_count": 29,
     "metadata": {},
     "output_type": "execute_result"
    }
   ],
   "source": [
    "l[8:10][0:2]"
   ]
  },
  {
   "cell_type": "code",
   "execution_count": 30,
   "id": "b7179c72",
   "metadata": {},
   "outputs": [
    {
     "data": {
      "text/plain": [
       "[['pravesh', 'ravi', 'anil', 'raju', 'pankaj'],\n",
       " ['pravesh', 'ravi', 'anil', 'raju', 'pankaj'],\n",
       " 5.4,\n",
       " 34,\n",
       " False,\n",
       " True,\n",
       " 'pravesh',\n",
       " 34,\n",
       " 2,\n",
       " 1]"
      ]
     },
     "execution_count": 30,
     "metadata": {},
     "output_type": "execute_result"
    }
   ],
   "source": [
    "l[::-1]"
   ]
  },
  {
   "cell_type": "code",
   "execution_count": 31,
   "id": "9a18a2f8",
   "metadata": {},
   "outputs": [],
   "source": [
    "s=[\"pravesh\",\"raju\",\"anil\",\"mohan\",\"raju\",\"manish\",2,3,4,5,6,6,77,78,True]"
   ]
  },
  {
   "cell_type": "code",
   "execution_count": 33,
   "id": "a3f46511",
   "metadata": {},
   "outputs": [
    {
     "data": {
      "text/plain": [
       "['pravesh', 'anil', 'raju', 2, 4, 6, 77, True]"
      ]
     },
     "execution_count": 33,
     "metadata": {},
     "output_type": "execute_result"
    }
   ],
   "source": [
    "s[::2]"
   ]
  },
  {
   "cell_type": "code",
   "execution_count": 34,
   "id": "97d2c6ee",
   "metadata": {},
   "outputs": [
    {
     "data": {
      "text/plain": [
       "['pravesh',\n",
       " 'raju',\n",
       " 'anil',\n",
       " 'mohan',\n",
       " 'raju',\n",
       " 'manish',\n",
       " 2,\n",
       " 3,\n",
       " 4,\n",
       " 5,\n",
       " 6,\n",
       " 6,\n",
       " 77,\n",
       " 78,\n",
       " True]"
      ]
     },
     "execution_count": 34,
     "metadata": {},
     "output_type": "execute_result"
    }
   ],
   "source": [
    "s"
   ]
  },
  {
   "cell_type": "code",
   "execution_count": 35,
   "id": "cb065f75",
   "metadata": {},
   "outputs": [],
   "source": [
    "d=\"pwskill\""
   ]
  },
  {
   "cell_type": "code",
   "execution_count": 37,
   "id": "43b3a86a",
   "metadata": {},
   "outputs": [],
   "source": [
    "l.append(list(d))"
   ]
  },
  {
   "cell_type": "code",
   "execution_count": 38,
   "id": "7da92897",
   "metadata": {},
   "outputs": [
    {
     "data": {
      "text/plain": [
       "[1,\n",
       " 2,\n",
       " 34,\n",
       " 'pravesh',\n",
       " True,\n",
       " False,\n",
       " 34,\n",
       " 5.4,\n",
       " ['pravesh', 'ravi', 'anil', 'raju', 'pankaj'],\n",
       " ['pravesh', 'ravi', 'anil', 'raju', 'pankaj'],\n",
       " ['p', 'w', 's', 'k', 'i', 'l', 'l']]"
      ]
     },
     "execution_count": 38,
     "metadata": {},
     "output_type": "execute_result"
    }
   ],
   "source": [
    "l"
   ]
  },
  {
   "cell_type": "code",
   "execution_count": 39,
   "id": "c69053ee",
   "metadata": {},
   "outputs": [
    {
     "data": {
      "text/plain": [
       "['pravesh',\n",
       " 'raju',\n",
       " 'anil',\n",
       " 'mohan',\n",
       " 'raju',\n",
       " 'manish',\n",
       " 2,\n",
       " 3,\n",
       " 4,\n",
       " 5,\n",
       " 6,\n",
       " 6,\n",
       " 77,\n",
       " 78,\n",
       " True]"
      ]
     },
     "execution_count": 39,
     "metadata": {},
     "output_type": "execute_result"
    }
   ],
   "source": [
    "s"
   ]
  },
  {
   "cell_type": "code",
   "execution_count": 40,
   "id": "3d876934",
   "metadata": {},
   "outputs": [
    {
     "data": {
      "text/plain": [
       "5"
      ]
     },
     "execution_count": 40,
     "metadata": {},
     "output_type": "execute_result"
    }
   ],
   "source": [
    "s.index(\"manish\")"
   ]
  },
  {
   "cell_type": "code",
   "execution_count": 42,
   "id": "644c597e",
   "metadata": {},
   "outputs": [
    {
     "data": {
      "text/plain": [
       "'ma'"
      ]
     },
     "execution_count": 42,
     "metadata": {},
     "output_type": "execute_result"
    }
   ],
   "source": [
    "s[5][:2]"
   ]
  },
  {
   "cell_type": "code",
   "execution_count": 44,
   "id": "15777bf8",
   "metadata": {},
   "outputs": [
    {
     "data": {
      "text/plain": [
       "14"
      ]
     },
     "execution_count": 44,
     "metadata": {},
     "output_type": "execute_result"
    }
   ],
   "source": [
    "s.index(True)"
   ]
  },
  {
   "cell_type": "code",
   "execution_count": 46,
   "id": "c50d15e5",
   "metadata": {},
   "outputs": [
    {
     "data": {
      "text/plain": [
       "'r'"
      ]
     },
     "execution_count": 46,
     "metadata": {},
     "output_type": "execute_result"
    }
   ],
   "source": [
    "str(s[14])[1]"
   ]
  },
  {
   "cell_type": "code",
   "execution_count": 48,
   "id": "651b6c6f",
   "metadata": {},
   "outputs": [],
   "source": [
    "s.append(list[4])"
   ]
  },
  {
   "cell_type": "code",
   "execution_count": 49,
   "id": "b3339f20",
   "metadata": {},
   "outputs": [
    {
     "data": {
      "text/plain": [
       "['pravesh',\n",
       " 'raju',\n",
       " 'anil',\n",
       " 'mohan',\n",
       " 'raju',\n",
       " 'manish',\n",
       " 2,\n",
       " 3,\n",
       " 4,\n",
       " 5,\n",
       " 6,\n",
       " 6,\n",
       " 77,\n",
       " 78,\n",
       " True,\n",
       " list[4]]"
      ]
     },
     "execution_count": 49,
     "metadata": {},
     "output_type": "execute_result"
    }
   ],
   "source": [
    "s"
   ]
  },
  {
   "cell_type": "code",
   "execution_count": 50,
   "id": "53ef43da",
   "metadata": {},
   "outputs": [],
   "source": [
    "m=[\"pravesh\",\"ravi\",\"manish\",23,34,98]"
   ]
  },
  {
   "cell_type": "code",
   "execution_count": 51,
   "id": "5489a153",
   "metadata": {},
   "outputs": [],
   "source": [
    "n=[23,34,56,67]"
   ]
  },
  {
   "cell_type": "code",
   "execution_count": 52,
   "id": "8f30667b",
   "metadata": {},
   "outputs": [
    {
     "data": {
      "text/plain": [
       "['pravesh', 'ravi', 'manish', 23, 34, 98, 23, 34, 56, 67]"
      ]
     },
     "execution_count": 52,
     "metadata": {},
     "output_type": "execute_result"
    }
   ],
   "source": [
    "m+n"
   ]
  },
  {
   "cell_type": "code",
   "execution_count": 53,
   "id": "23ad1023",
   "metadata": {},
   "outputs": [
    {
     "data": {
      "text/plain": [
       "[23, 34, 56, 67, 23, 34, 56, 67, 23, 34, 56, 67, 23, 34, 56, 67]"
      ]
     },
     "execution_count": 53,
     "metadata": {},
     "output_type": "execute_result"
    }
   ],
   "source": [
    "n*4"
   ]
  },
  {
   "cell_type": "code",
   "execution_count": 54,
   "id": "b71254ba",
   "metadata": {},
   "outputs": [
    {
     "data": {
      "text/plain": [
       "['pravesh',\n",
       " 'ravi',\n",
       " 'manish',\n",
       " 23,\n",
       " 34,\n",
       " 98,\n",
       " 'pravesh',\n",
       " 'ravi',\n",
       " 'manish',\n",
       " 23,\n",
       " 34,\n",
       " 98,\n",
       " 'pravesh',\n",
       " 'ravi',\n",
       " 'manish',\n",
       " 23,\n",
       " 34,\n",
       " 98,\n",
       " 'pravesh',\n",
       " 'ravi',\n",
       " 'manish',\n",
       " 23,\n",
       " 34,\n",
       " 98]"
      ]
     },
     "execution_count": 54,
     "metadata": {},
     "output_type": "execute_result"
    }
   ],
   "source": [
    "m*4"
   ]
  },
  {
   "cell_type": "code",
   "execution_count": 55,
   "id": "9986eed7",
   "metadata": {},
   "outputs": [
    {
     "data": {
      "text/plain": [
       "['pravesh', 'ravi', 'manish', 23, 34, 98]"
      ]
     },
     "execution_count": 55,
     "metadata": {},
     "output_type": "execute_result"
    }
   ],
   "source": [
    "m"
   ]
  },
  {
   "cell_type": "code",
   "execution_count": 56,
   "id": "859e4732",
   "metadata": {},
   "outputs": [
    {
     "data": {
      "text/plain": [
       "6"
      ]
     },
     "execution_count": 56,
     "metadata": {},
     "output_type": "execute_result"
    }
   ],
   "source": [
    "len(m)"
   ]
  },
  {
   "cell_type": "code",
   "execution_count": 57,
   "id": "44fad086",
   "metadata": {},
   "outputs": [],
   "source": [
    "m.append(5)"
   ]
  },
  {
   "cell_type": "code",
   "execution_count": 58,
   "id": "a02052ec",
   "metadata": {},
   "outputs": [
    {
     "data": {
      "text/plain": [
       "['pravesh', 'ravi', 'manish', 23, 34, 98, 5]"
      ]
     },
     "execution_count": 58,
     "metadata": {},
     "output_type": "execute_result"
    }
   ],
   "source": [
    "m"
   ]
  },
  {
   "cell_type": "code",
   "execution_count": 59,
   "id": "6c7eb5dd",
   "metadata": {},
   "outputs": [],
   "source": [
    "m.append(\"mohan\")"
   ]
  },
  {
   "cell_type": "code",
   "execution_count": 60,
   "id": "f9be52cc",
   "metadata": {},
   "outputs": [
    {
     "data": {
      "text/plain": [
       "['pravesh', 'ravi', 'manish', 23, 34, 98, 5, 'mohan']"
      ]
     },
     "execution_count": 60,
     "metadata": {},
     "output_type": "execute_result"
    }
   ],
   "source": [
    "m"
   ]
  },
  {
   "cell_type": "code",
   "execution_count": 63,
   "id": "5a873c96",
   "metadata": {},
   "outputs": [],
   "source": [
    "l=[\"pravesh\",\"raju\",\"mohan\",\"sonu\",\"raju\"]"
   ]
  },
  {
   "cell_type": "code",
   "execution_count": 64,
   "id": "0c5b8f6c",
   "metadata": {},
   "outputs": [],
   "source": [
    "l.sort()"
   ]
  },
  {
   "cell_type": "code",
   "execution_count": 65,
   "id": "924d68dd",
   "metadata": {},
   "outputs": [
    {
     "data": {
      "text/plain": [
       "['mohan', 'pravesh', 'raju', 'raju', 'sonu']"
      ]
     },
     "execution_count": 65,
     "metadata": {},
     "output_type": "execute_result"
    }
   ],
   "source": [
    "l"
   ]
  },
  {
   "cell_type": "code",
   "execution_count": 66,
   "id": "2174d68d",
   "metadata": {},
   "outputs": [],
   "source": [
    "c=\"pwsills\""
   ]
  },
  {
   "cell_type": "code",
   "execution_count": 67,
   "id": "5432636b",
   "metadata": {},
   "outputs": [],
   "source": [
    "m.append(c)"
   ]
  },
  {
   "cell_type": "code",
   "execution_count": 68,
   "id": "0c7d1a7e",
   "metadata": {},
   "outputs": [
    {
     "data": {
      "text/plain": [
       "['manish', 'pravesh', 'ravi', 23, 34, 98, 5, 'mohan', 'pwsills']"
      ]
     },
     "execution_count": 68,
     "metadata": {},
     "output_type": "execute_result"
    }
   ],
   "source": [
    "m"
   ]
  },
  {
   "cell_type": "code",
   "execution_count": 69,
   "id": "c878c692",
   "metadata": {},
   "outputs": [],
   "source": [
    "m.append(l)"
   ]
  },
  {
   "cell_type": "code",
   "execution_count": 70,
   "id": "5b2f72a9",
   "metadata": {},
   "outputs": [
    {
     "data": {
      "text/plain": [
       "['manish',\n",
       " 'pravesh',\n",
       " 'ravi',\n",
       " 23,\n",
       " 34,\n",
       " 98,\n",
       " 5,\n",
       " 'mohan',\n",
       " 'pwsills',\n",
       " ['mohan', 'pravesh', 'raju', 'raju', 'sonu']]"
      ]
     },
     "execution_count": 70,
     "metadata": {},
     "output_type": "execute_result"
    }
   ],
   "source": [
    "m"
   ]
  },
  {
   "cell_type": "code",
   "execution_count": 73,
   "id": "1be2c8d1",
   "metadata": {},
   "outputs": [
    {
     "data": {
      "text/plain": [
       "'so'"
      ]
     },
     "execution_count": 73,
     "metadata": {},
     "output_type": "execute_result"
    }
   ],
   "source": [
    "m[9][-1][0:2]"
   ]
  },
  {
   "cell_type": "code",
   "execution_count": 74,
   "id": "7923ae3a",
   "metadata": {},
   "outputs": [
    {
     "data": {
      "text/plain": [
       "['manish',\n",
       " 'pravesh',\n",
       " 'ravi',\n",
       " 23,\n",
       " 34,\n",
       " 98,\n",
       " 5,\n",
       " 'mohan',\n",
       " 'pwsills',\n",
       " ['mohan', 'pravesh', 'raju', 'raju', 'sonu']]"
      ]
     },
     "execution_count": 74,
     "metadata": {},
     "output_type": "execute_result"
    }
   ],
   "source": [
    "m"
   ]
  },
  {
   "cell_type": "code",
   "execution_count": 75,
   "id": "786c8c7f",
   "metadata": {},
   "outputs": [],
   "source": [
    "m.extend(\"sudh\")"
   ]
  },
  {
   "cell_type": "code",
   "execution_count": 76,
   "id": "6b62bce5",
   "metadata": {},
   "outputs": [
    {
     "data": {
      "text/plain": [
       "['manish',\n",
       " 'pravesh',\n",
       " 'ravi',\n",
       " 23,\n",
       " 34,\n",
       " 98,\n",
       " 5,\n",
       " 'mohan',\n",
       " 'pwsills',\n",
       " ['mohan', 'pravesh', 'raju', 'raju', 'sonu'],\n",
       " 's',\n",
       " 'u',\n",
       " 'd',\n",
       " 'h']"
      ]
     },
     "execution_count": 76,
     "metadata": {},
     "output_type": "execute_result"
    }
   ],
   "source": [
    "m"
   ]
  },
  {
   "cell_type": "code",
   "execution_count": 80,
   "id": "65cd6a22",
   "metadata": {},
   "outputs": [
    {
     "data": {
      "text/plain": [
       "'s'"
      ]
     },
     "execution_count": 80,
     "metadata": {},
     "output_type": "execute_result"
    }
   ],
   "source": [
    "m.pop(-1)"
   ]
  },
  {
   "cell_type": "code",
   "execution_count": 81,
   "id": "1b55ca5d",
   "metadata": {},
   "outputs": [
    {
     "data": {
      "text/plain": [
       "['manish',\n",
       " 'pravesh',\n",
       " 'ravi',\n",
       " 23,\n",
       " 34,\n",
       " 98,\n",
       " 5,\n",
       " 'mohan',\n",
       " 'pwsills',\n",
       " ['mohan', 'pravesh', 'raju', 'raju', 'sonu']]"
      ]
     },
     "execution_count": 81,
     "metadata": {},
     "output_type": "execute_result"
    }
   ],
   "source": [
    "m"
   ]
  },
  {
   "cell_type": "code",
   "execution_count": 83,
   "id": "b4b5ef71",
   "metadata": {},
   "outputs": [
    {
     "data": {
      "text/plain": [
       "['mohan', 'pravesh', 'raju', 'raju', 'sonu']"
      ]
     },
     "execution_count": 83,
     "metadata": {},
     "output_type": "execute_result"
    }
   ],
   "source": [
    "m.pop()"
   ]
  },
  {
   "cell_type": "code",
   "execution_count": 84,
   "id": "a121d183",
   "metadata": {},
   "outputs": [
    {
     "data": {
      "text/plain": [
       "['manish', 'pravesh', 'ravi', 23, 34, 98, 5, 'mohan', 'pwsills']"
      ]
     },
     "execution_count": 84,
     "metadata": {},
     "output_type": "execute_result"
    }
   ],
   "source": [
    "m"
   ]
  },
  {
   "cell_type": "code",
   "execution_count": 85,
   "id": "a1ab2b32",
   "metadata": {},
   "outputs": [],
   "source": [
    "d=[1,2,3,4]"
   ]
  },
  {
   "cell_type": "code",
   "execution_count": 86,
   "id": "123d78eb",
   "metadata": {},
   "outputs": [
    {
     "data": {
      "text/plain": [
       "[1, 2, 3, 4]"
      ]
     },
     "execution_count": 86,
     "metadata": {},
     "output_type": "execute_result"
    }
   ],
   "source": [
    "d"
   ]
  },
  {
   "cell_type": "code",
   "execution_count": 87,
   "id": "721c60e1",
   "metadata": {},
   "outputs": [],
   "source": [
    "d.insert(1,[23,34,56])"
   ]
  },
  {
   "cell_type": "code",
   "execution_count": 88,
   "id": "49a00475",
   "metadata": {},
   "outputs": [
    {
     "data": {
      "text/plain": [
       "[1, [23, 34, 56], 2, 3, 4]"
      ]
     },
     "execution_count": 88,
     "metadata": {},
     "output_type": "execute_result"
    }
   ],
   "source": [
    "d"
   ]
  },
  {
   "cell_type": "code",
   "execution_count": 90,
   "id": "90222b59",
   "metadata": {},
   "outputs": [
    {
     "data": {
      "text/plain": [
       "[1, [23, 34, 56], 2, 3, 4]"
      ]
     },
     "execution_count": 90,
     "metadata": {},
     "output_type": "execute_result"
    }
   ],
   "source": [
    "d"
   ]
  },
  {
   "cell_type": "code",
   "execution_count": 91,
   "id": "e02e648c",
   "metadata": {},
   "outputs": [
    {
     "data": {
      "text/plain": [
       "[23, 34, 56]"
      ]
     },
     "execution_count": 91,
     "metadata": {},
     "output_type": "execute_result"
    }
   ],
   "source": [
    "d[1]"
   ]
  },
  {
   "cell_type": "code",
   "execution_count": 92,
   "id": "931e9744",
   "metadata": {},
   "outputs": [
    {
     "data": {
      "text/plain": [
       "[23, 34, 56]"
      ]
     },
     "execution_count": 92,
     "metadata": {},
     "output_type": "execute_result"
    }
   ],
   "source": [
    "d.pop(1)"
   ]
  },
  {
   "cell_type": "code",
   "execution_count": 93,
   "id": "b25ee63e",
   "metadata": {},
   "outputs": [
    {
     "data": {
      "text/plain": [
       "[1, 2, 3, 4]"
      ]
     },
     "execution_count": 93,
     "metadata": {},
     "output_type": "execute_result"
    }
   ],
   "source": [
    "d"
   ]
  },
  {
   "cell_type": "code",
   "execution_count": 94,
   "id": "3c15281f",
   "metadata": {},
   "outputs": [],
   "source": [
    "d.remove(2)"
   ]
  },
  {
   "cell_type": "code",
   "execution_count": 95,
   "id": "2471f787",
   "metadata": {},
   "outputs": [
    {
     "data": {
      "text/plain": [
       "[1, 3, 4]"
      ]
     },
     "execution_count": 95,
     "metadata": {},
     "output_type": "execute_result"
    }
   ],
   "source": [
    "d"
   ]
  },
  {
   "cell_type": "code",
   "execution_count": 96,
   "id": "ba77efed",
   "metadata": {},
   "outputs": [],
   "source": [
    "c=[3,4,5,6,7]"
   ]
  },
  {
   "cell_type": "code",
   "execution_count": 97,
   "id": "23a90812",
   "metadata": {},
   "outputs": [],
   "source": [
    "d.append(c)"
   ]
  },
  {
   "cell_type": "code",
   "execution_count": 98,
   "id": "5ef4aae3",
   "metadata": {},
   "outputs": [
    {
     "data": {
      "text/plain": [
       "[1, 3, 4, [3, 4, 5, 6, 7]]"
      ]
     },
     "execution_count": 98,
     "metadata": {},
     "output_type": "execute_result"
    }
   ],
   "source": [
    "d"
   ]
  },
  {
   "cell_type": "code",
   "execution_count": 101,
   "id": "71ce567f",
   "metadata": {},
   "outputs": [],
   "source": [
    "d[3].remove(4)"
   ]
  },
  {
   "cell_type": "code",
   "execution_count": 102,
   "id": "29820cad",
   "metadata": {},
   "outputs": [
    {
     "data": {
      "text/plain": [
       "[1, 3, 4, [3, 5, 6, 7]]"
      ]
     },
     "execution_count": 102,
     "metadata": {},
     "output_type": "execute_result"
    }
   ],
   "source": [
    "d"
   ]
  },
  {
   "cell_type": "code",
   "execution_count": 111,
   "id": "8e380b7e",
   "metadata": {},
   "outputs": [],
   "source": [
    "d.append(\"pravesh\")"
   ]
  },
  {
   "cell_type": "code",
   "execution_count": 112,
   "id": "66ddd352",
   "metadata": {},
   "outputs": [
    {
     "data": {
      "text/plain": [
       "[1, 3, 4, [3, 5, 6, 7], 'pravesh', 'pravesh']"
      ]
     },
     "execution_count": 112,
     "metadata": {},
     "output_type": "execute_result"
    }
   ],
   "source": [
    "d"
   ]
  },
  {
   "cell_type": "code",
   "execution_count": 113,
   "id": "422b6a7d",
   "metadata": {},
   "outputs": [
    {
     "data": {
      "text/plain": [
       "'pr'"
      ]
     },
     "execution_count": 113,
     "metadata": {},
     "output_type": "execute_result"
    }
   ],
   "source": [
    "d[4][0:2]"
   ]
  },
  {
   "cell_type": "code",
   "execution_count": 115,
   "id": "8f754a53",
   "metadata": {},
   "outputs": [
    {
     "data": {
      "text/plain": [
       "['pravesh', 'pravesh', [3, 5, 6, 7], 4, 3, 1]"
      ]
     },
     "execution_count": 115,
     "metadata": {},
     "output_type": "execute_result"
    }
   ],
   "source": [
    "d[::-1]"
   ]
  },
  {
   "cell_type": "code",
   "execution_count": 116,
   "id": "81853a93",
   "metadata": {},
   "outputs": [
    {
     "data": {
      "text/plain": [
       "[1, 3, 4, [3, 5, 6, 7], 'pravesh', 'pravesh']"
      ]
     },
     "execution_count": 116,
     "metadata": {},
     "output_type": "execute_result"
    }
   ],
   "source": [
    "d"
   ]
  },
  {
   "cell_type": "code",
   "execution_count": 117,
   "id": "fed395b6",
   "metadata": {},
   "outputs": [],
   "source": [
    "d.reverse()"
   ]
  },
  {
   "cell_type": "code",
   "execution_count": 118,
   "id": "b98d2e1e",
   "metadata": {},
   "outputs": [
    {
     "data": {
      "text/plain": [
       "['pravesh', 'pravesh', [3, 5, 6, 7], 4, 3, 1]"
      ]
     },
     "execution_count": 118,
     "metadata": {},
     "output_type": "execute_result"
    }
   ],
   "source": [
    "d"
   ]
  },
  {
   "cell_type": "code",
   "execution_count": 119,
   "id": "bf57e097",
   "metadata": {},
   "outputs": [],
   "source": [
    "m=[1,2,34,5,6,7,8,8]"
   ]
  },
  {
   "cell_type": "code",
   "execution_count": 120,
   "id": "5613176c",
   "metadata": {},
   "outputs": [],
   "source": [
    "m.sort()"
   ]
  },
  {
   "cell_type": "code",
   "execution_count": 121,
   "id": "d1fb3c2f",
   "metadata": {},
   "outputs": [
    {
     "data": {
      "text/plain": [
       "[1, 2, 5, 6, 7, 8, 8, 34]"
      ]
     },
     "execution_count": 121,
     "metadata": {},
     "output_type": "execute_result"
    }
   ],
   "source": [
    "m"
   ]
  },
  {
   "cell_type": "code",
   "execution_count": 122,
   "id": "b2ecc50f",
   "metadata": {},
   "outputs": [
    {
     "data": {
      "text/plain": [
       "[1, 2, 5, 6, 7, 8, 8, 34]"
      ]
     },
     "execution_count": 122,
     "metadata": {},
     "output_type": "execute_result"
    }
   ],
   "source": [
    "m"
   ]
  },
  {
   "cell_type": "code",
   "execution_count": 124,
   "id": "90ae91b8",
   "metadata": {},
   "outputs": [],
   "source": [
    "m1=[23,\"pravesh\",\"kumar\",34,56]"
   ]
  },
  {
   "cell_type": "code",
   "execution_count": 125,
   "id": "cb33eb1b",
   "metadata": {},
   "outputs": [
    {
     "ename": "TypeError",
     "evalue": "'<' not supported between instances of 'str' and 'int'",
     "output_type": "error",
     "traceback": [
      "\u001b[1;31m---------------------------------------------------------------------------\u001b[0m",
      "\u001b[1;31mTypeError\u001b[0m                                 Traceback (most recent call last)",
      "\u001b[1;32m~\\AppData\\Local\\Temp\\ipykernel_6308\\4228314845.py\u001b[0m in \u001b[0;36m<module>\u001b[1;34m\u001b[0m\n\u001b[1;32m----> 1\u001b[1;33m \u001b[0mm1\u001b[0m\u001b[1;33m.\u001b[0m\u001b[0msort\u001b[0m\u001b[1;33m(\u001b[0m\u001b[1;33m)\u001b[0m\u001b[1;33m\u001b[0m\u001b[1;33m\u001b[0m\u001b[0m\n\u001b[0m",
      "\u001b[1;31mTypeError\u001b[0m: '<' not supported between instances of 'str' and 'int'"
     ]
    }
   ],
   "source": [
    "m1.sort()"
   ]
  },
  {
   "cell_type": "code",
   "execution_count": 132,
   "id": "c9d59ecf",
   "metadata": {},
   "outputs": [],
   "source": [
    "m2=[\"pravesh\",\"kumar\",\"roy\",\"pravesh\"]"
   ]
  },
  {
   "cell_type": "code",
   "execution_count": 133,
   "id": "7f0fee4a",
   "metadata": {},
   "outputs": [],
   "source": [
    "m2.sort(reverse=True)"
   ]
  },
  {
   "cell_type": "code",
   "execution_count": 134,
   "id": "0d66282c",
   "metadata": {},
   "outputs": [
    {
     "data": {
      "text/plain": [
       "['roy', 'pravesh', 'pravesh', 'kumar']"
      ]
     },
     "execution_count": 134,
     "metadata": {},
     "output_type": "execute_result"
    }
   ],
   "source": [
    "m2"
   ]
  },
  {
   "cell_type": "code",
   "execution_count": 135,
   "id": "a206adfb",
   "metadata": {},
   "outputs": [
    {
     "data": {
      "text/plain": [
       "2"
      ]
     },
     "execution_count": 135,
     "metadata": {},
     "output_type": "execute_result"
    }
   ],
   "source": [
    "m2.count(\"pravesh\")"
   ]
  },
  {
   "cell_type": "code",
   "execution_count": 136,
   "id": "2977e876",
   "metadata": {},
   "outputs": [],
   "source": [
    "m3=\"pravesh\""
   ]
  },
  {
   "cell_type": "code",
   "execution_count": 137,
   "id": "701c3f6d",
   "metadata": {},
   "outputs": [],
   "source": [
    "m4=[1,2,3,4,5,6]"
   ]
  },
  {
   "cell_type": "code",
   "execution_count": 139,
   "id": "89af8c03",
   "metadata": {},
   "outputs": [
    {
     "ename": "TypeError",
     "evalue": "'str' object does not support item assignment",
     "output_type": "error",
     "traceback": [
      "\u001b[1;31m---------------------------------------------------------------------------\u001b[0m",
      "\u001b[1;31mTypeError\u001b[0m                                 Traceback (most recent call last)",
      "\u001b[1;32m~\\AppData\\Local\\Temp\\ipykernel_6308\\691426203.py\u001b[0m in \u001b[0;36m<module>\u001b[1;34m\u001b[0m\n\u001b[1;32m----> 1\u001b[1;33m \u001b[0mm3\u001b[0m\u001b[1;33m[\u001b[0m\u001b[1;36m0\u001b[0m\u001b[1;33m]\u001b[0m\u001b[1;33m=\u001b[0m\u001b[1;34m\"r\"\u001b[0m\u001b[1;33m\u001b[0m\u001b[1;33m\u001b[0m\u001b[0m\n\u001b[0m",
      "\u001b[1;31mTypeError\u001b[0m: 'str' object does not support item assignment"
     ]
    }
   ],
   "source": [
    "m3[0]=\"r\""
   ]
  },
  {
   "cell_type": "code",
   "execution_count": 141,
   "id": "297e4ffd",
   "metadata": {},
   "outputs": [],
   "source": [
    "m4[1]=5"
   ]
  },
  {
   "cell_type": "code",
   "execution_count": 142,
   "id": "5b20e912",
   "metadata": {},
   "outputs": [
    {
     "data": {
      "text/plain": [
       "[1, 5, 3, 4, 5, 6]"
      ]
     },
     "execution_count": 142,
     "metadata": {},
     "output_type": "execute_result"
    }
   ],
   "source": [
    "m4"
   ]
  },
  {
   "cell_type": "code",
   "execution_count": 144,
   "id": "f0542f21",
   "metadata": {},
   "outputs": [],
   "source": [
    "m4[3]=100"
   ]
  },
  {
   "cell_type": "code",
   "execution_count": 145,
   "id": "311cc46f",
   "metadata": {},
   "outputs": [
    {
     "data": {
      "text/plain": [
       "[1, 5, 3, 100, 5, 6]"
      ]
     },
     "execution_count": 145,
     "metadata": {},
     "output_type": "execute_result"
    }
   ],
   "source": [
    "m4"
   ]
  },
  {
   "cell_type": "code",
   "execution_count": 146,
   "id": "4825abc3",
   "metadata": {},
   "outputs": [
    {
     "data": {
      "text/plain": [
       "['roy', 'pravesh', 'pravesh', 'kumar']"
      ]
     },
     "execution_count": 146,
     "metadata": {},
     "output_type": "execute_result"
    }
   ],
   "source": [
    "m2"
   ]
  },
  {
   "cell_type": "code",
   "execution_count": 148,
   "id": "78183168",
   "metadata": {},
   "outputs": [],
   "source": [
    "m2[3]=\"raju\""
   ]
  },
  {
   "cell_type": "code",
   "execution_count": 149,
   "id": "3378f92a",
   "metadata": {},
   "outputs": [
    {
     "data": {
      "text/plain": [
       "['roy', 'pravesh', 'pravesh', 'raju']"
      ]
     },
     "execution_count": 149,
     "metadata": {},
     "output_type": "execute_result"
    }
   ],
   "source": [
    "m2"
   ]
  },
  {
   "cell_type": "code",
   "execution_count": 150,
   "id": "a1120774",
   "metadata": {},
   "outputs": [],
   "source": [
    "d=\"praves\""
   ]
  },
  {
   "cell_type": "code",
   "execution_count": 151,
   "id": "68081960",
   "metadata": {},
   "outputs": [
    {
     "data": {
      "text/plain": [
       "'rraves'"
      ]
     },
     "execution_count": 151,
     "metadata": {},
     "output_type": "execute_result"
    }
   ],
   "source": [
    "d.replace(\"p\",\"r\")"
   ]
  },
  {
   "cell_type": "code",
   "execution_count": 152,
   "id": "81a5b0c4",
   "metadata": {},
   "outputs": [
    {
     "data": {
      "text/plain": [
       "list"
      ]
     },
     "execution_count": 152,
     "metadata": {},
     "output_type": "execute_result"
    }
   ],
   "source": [
    "type(m2)"
   ]
  },
  {
   "cell_type": "code",
   "execution_count": 153,
   "id": "b17ce7f9",
   "metadata": {},
   "outputs": [
    {
     "data": {
      "text/plain": [
       "str"
      ]
     },
     "execution_count": 153,
     "metadata": {},
     "output_type": "execute_result"
    }
   ],
   "source": [
    "type(d)"
   ]
  },
  {
   "cell_type": "code",
   "execution_count": 154,
   "id": "fa4f7210",
   "metadata": {},
   "outputs": [
    {
     "data": {
      "text/plain": [
       "'praves'"
      ]
     },
     "execution_count": 154,
     "metadata": {},
     "output_type": "execute_result"
    }
   ],
   "source": [
    "d"
   ]
  },
  {
   "cell_type": "code",
   "execution_count": 160,
   "id": "5cd8b562",
   "metadata": {},
   "outputs": [],
   "source": [
    "t=(2,3,4,5,6,\"pravesh\",45.56,56+4j,[2,3,4,5])"
   ]
  },
  {
   "cell_type": "code",
   "execution_count": 161,
   "id": "120ebea3",
   "metadata": {},
   "outputs": [
    {
     "data": {
      "text/plain": [
       "tuple"
      ]
     },
     "execution_count": 161,
     "metadata": {},
     "output_type": "execute_result"
    }
   ],
   "source": [
    "type(t)"
   ]
  },
  {
   "cell_type": "code",
   "execution_count": 162,
   "id": "e4f73334",
   "metadata": {},
   "outputs": [
    {
     "data": {
      "text/plain": [
       "(2, 3, 4, 5, 6, 'pravesh', 45.56, (56+4j), [2, 3, 4, 5])"
      ]
     },
     "execution_count": 162,
     "metadata": {},
     "output_type": "execute_result"
    }
   ],
   "source": [
    "t"
   ]
  },
  {
   "cell_type": "code",
   "execution_count": 164,
   "id": "309cd5d3",
   "metadata": {},
   "outputs": [
    {
     "data": {
      "text/plain": [
       "9"
      ]
     },
     "execution_count": 164,
     "metadata": {},
     "output_type": "execute_result"
    }
   ],
   "source": [
    "len(t)"
   ]
  },
  {
   "cell_type": "code",
   "execution_count": 166,
   "id": "6280ed01",
   "metadata": {},
   "outputs": [
    {
     "data": {
      "text/plain": [
       "([2, 3, 4, 5], (56+4j), 45.56, 'pravesh', 6, 5, 4, 3, 2)"
      ]
     },
     "execution_count": 166,
     "metadata": {},
     "output_type": "execute_result"
    }
   ],
   "source": [
    "t[::-1]"
   ]
  },
  {
   "cell_type": "code",
   "execution_count": 167,
   "id": "defaff6a",
   "metadata": {},
   "outputs": [
    {
     "data": {
      "text/plain": [
       "[2, 3, 4, 5]"
      ]
     },
     "execution_count": 167,
     "metadata": {},
     "output_type": "execute_result"
    }
   ],
   "source": [
    "t[-1]"
   ]
  },
  {
   "cell_type": "code",
   "execution_count": 169,
   "id": "d82929fe",
   "metadata": {},
   "outputs": [],
   "source": [
    "t1={}"
   ]
  },
  {
   "cell_type": "code",
   "execution_count": 170,
   "id": "e4bf9786",
   "metadata": {},
   "outputs": [
    {
     "data": {
      "text/plain": [
       "dict"
      ]
     },
     "execution_count": 170,
     "metadata": {},
     "output_type": "execute_result"
    }
   ],
   "source": [
    "type(t1)"
   ]
  },
  {
   "cell_type": "code",
   "execution_count": 176,
   "id": "bb081017",
   "metadata": {},
   "outputs": [],
   "source": [
    "t2={1,2,3,4,5,56,6,6,6,6,6,4,4,3,33,2,2,2,(1,2,3,4,5),\"rakesh\"}"
   ]
  },
  {
   "cell_type": "code",
   "execution_count": 177,
   "id": "284249b3",
   "metadata": {},
   "outputs": [
    {
     "data": {
      "text/plain": [
       "{(1, 2, 3, 4, 5), 1, 2, 3, 33, 4, 5, 56, 6, 'rakesh'}"
      ]
     },
     "execution_count": 177,
     "metadata": {},
     "output_type": "execute_result"
    }
   ],
   "source": [
    "t2"
   ]
  },
  {
   "cell_type": "code",
   "execution_count": 178,
   "id": "7df2fd62",
   "metadata": {},
   "outputs": [
    {
     "data": {
      "text/plain": [
       "set"
      ]
     },
     "execution_count": 178,
     "metadata": {},
     "output_type": "execute_result"
    }
   ],
   "source": [
    "type(t2)"
   ]
  },
  {
   "cell_type": "code",
   "execution_count": 179,
   "id": "1c678de1",
   "metadata": {},
   "outputs": [
    {
     "data": {
      "text/plain": [
       "10"
      ]
     },
     "execution_count": 179,
     "metadata": {},
     "output_type": "execute_result"
    }
   ],
   "source": [
    "len(t2)"
   ]
  },
  {
   "cell_type": "code",
   "execution_count": 180,
   "id": "0e2354ff",
   "metadata": {},
   "outputs": [],
   "source": [
    "t3={1,1,1,1,1,1,1,1,2,2,2,22,2,2,2,2,2,3,3,3,3,3,3,3}"
   ]
  },
  {
   "cell_type": "code",
   "execution_count": 181,
   "id": "54a903df",
   "metadata": {},
   "outputs": [
    {
     "data": {
      "text/plain": [
       "{1, 2, 3, 22}"
      ]
     },
     "execution_count": 181,
     "metadata": {},
     "output_type": "execute_result"
    }
   ],
   "source": [
    "t3"
   ]
  },
  {
   "cell_type": "code",
   "execution_count": 182,
   "id": "446a873c",
   "metadata": {},
   "outputs": [],
   "source": [
    "d=[12,12,12,12,23,23,23,45,45,55,55,55]"
   ]
  },
  {
   "cell_type": "code",
   "execution_count": 195,
   "id": "95a9e3f7",
   "metadata": {},
   "outputs": [],
   "source": [
    "d=list(set(d))"
   ]
  },
  {
   "cell_type": "code",
   "execution_count": 196,
   "id": "69aab4b1",
   "metadata": {},
   "outputs": [
    {
     "data": {
      "text/plain": [
       "[55, 12, 45, 23]"
      ]
     },
     "execution_count": 196,
     "metadata": {},
     "output_type": "execute_result"
    }
   ],
   "source": [
    "d"
   ]
  },
  {
   "cell_type": "code",
   "execution_count": 199,
   "id": "0890536b",
   "metadata": {},
   "outputs": [],
   "source": [
    "d1={1,2,3,4,5,44,33,22,12,4,56,7,7,7,77,88,77,88}"
   ]
  },
  {
   "cell_type": "code",
   "execution_count": 200,
   "id": "1c6aaa51",
   "metadata": {},
   "outputs": [
    {
     "data": {
      "text/plain": [
       "{1, 2, 3, 4, 5, 7, 12, 22, 33, 44, 56, 77, 88}"
      ]
     },
     "execution_count": 200,
     "metadata": {},
     "output_type": "execute_result"
    }
   ],
   "source": [
    "d1"
   ]
  },
  {
   "cell_type": "code",
   "execution_count": 202,
   "id": "637a2a6a",
   "metadata": {},
   "outputs": [],
   "source": [
    "d2={33333,3,3,3,333,13,4,4,4,4,3,2,2,3,5,5,3,2,22,\"avc\",44}"
   ]
  },
  {
   "cell_type": "code",
   "execution_count": 203,
   "id": "0c5082b8",
   "metadata": {},
   "outputs": [
    {
     "data": {
      "text/plain": [
       "{13, 2, 22, 3, 333, 33333, 4, 44, 5, 'avc'}"
      ]
     },
     "execution_count": 203,
     "metadata": {},
     "output_type": "execute_result"
    }
   ],
   "source": [
    "d2"
   ]
  },
  {
   "cell_type": "code",
   "execution_count": 207,
   "id": "9ab3a9de",
   "metadata": {},
   "outputs": [],
   "source": [
    "d2.add(100)"
   ]
  },
  {
   "cell_type": "code",
   "execution_count": 208,
   "id": "4061f556",
   "metadata": {},
   "outputs": [
    {
     "data": {
      "text/plain": [
       "{100, 13, 2, 22, 3, 333, 33333, 4, 44, 5, 'avc'}"
      ]
     },
     "execution_count": 208,
     "metadata": {},
     "output_type": "execute_result"
    }
   ],
   "source": [
    "d2"
   ]
  },
  {
   "cell_type": "code",
   "execution_count": 209,
   "id": "155fd82c",
   "metadata": {},
   "outputs": [],
   "source": [
    "d2.remove(13)"
   ]
  },
  {
   "cell_type": "code",
   "execution_count": 210,
   "id": "3fc6ea43",
   "metadata": {},
   "outputs": [
    {
     "data": {
      "text/plain": [
       "{100, 2, 22, 3, 333, 33333, 4, 44, 5, 'avc'}"
      ]
     },
     "execution_count": 210,
     "metadata": {},
     "output_type": "execute_result"
    }
   ],
   "source": [
    "d2"
   ]
  },
  {
   "cell_type": "code",
   "execution_count": 211,
   "id": "f242acac",
   "metadata": {},
   "outputs": [],
   "source": [
    "d2.clear()"
   ]
  },
  {
   "cell_type": "code",
   "execution_count": 212,
   "id": "e899b6b1",
   "metadata": {},
   "outputs": [
    {
     "data": {
      "text/plain": [
       "set()"
      ]
     },
     "execution_count": 212,
     "metadata": {},
     "output_type": "execute_result"
    }
   ],
   "source": [
    "d2"
   ]
  },
  {
   "cell_type": "code",
   "execution_count": null,
   "id": "cd58795c",
   "metadata": {},
   "outputs": [],
   "source": [
    "d2."
   ]
  }
 ],
 "metadata": {
  "kernelspec": {
   "display_name": "Python 3 (ipykernel)",
   "language": "python",
   "name": "python3"
  },
  "language_info": {
   "codemirror_mode": {
    "name": "ipython",
    "version": 3
   },
   "file_extension": ".py",
   "mimetype": "text/x-python",
   "name": "python",
   "nbconvert_exporter": "python",
   "pygments_lexer": "ipython3",
   "version": "3.9.13"
  }
 },
 "nbformat": 4,
 "nbformat_minor": 5
}
